{
 "cells": [
  {
   "cell_type": "code",
   "execution_count": 1,
   "id": "0a299d32",
   "metadata": {},
   "outputs": [
    {
     "name": "stderr",
     "output_type": "stream",
     "text": [
      "/var/folders/0t/6d51btm11zz6lw61fgrmf7z00000gn/T/ipykernel_5709/2793260909.py:3: UserWarning: Named tensors and all their associated APIs are an experimental feature and subject to change. Please do not use them for anything important until they are released as stable. (Triggered internally at /Users/runner/work/pytorch/pytorch/pytorch/c10/core/TensorImpl.h:1938.)\n",
      "  _ = torch.tensor([0.2126, 0.7152, 0.0722], names=[\"c\"])\n"
     ]
    }
   ],
   "source": [
    "import torch\n",
    "\n",
    "_ = torch.tensor([0.2126, 0.7152, 0.0722], names=[\"c\"])"
   ]
  },
  {
   "cell_type": "code",
   "execution_count": 2,
   "id": "854a2abc",
   "metadata": {},
   "outputs": [],
   "source": [
    "img_t = torch.randn(3, 5, 5)\n",
    "weights = torch.tensor([0.2126, 0.7152, 0.0722])"
   ]
  },
  {
   "cell_type": "code",
   "execution_count": null,
   "id": "c1b27c86",
   "metadata": {},
   "outputs": [],
   "source": [
    "batch_t = torch.randn(2, 3, 5, 5)  # shape [batch, channels, rows, columns]"
   ]
  },
  {
   "cell_type": "code",
   "execution_count": 5,
   "id": "a011c05b",
   "metadata": {},
   "outputs": [
    {
     "data": {
      "text/plain": [
       "(torch.Size([5, 5]), torch.Size([2, 5, 5]))"
      ]
     },
     "execution_count": 5,
     "metadata": {},
     "output_type": "execute_result"
    }
   ],
   "source": [
    "# 最後から3番目の次元（=チャンネル次元）で平均を取り、RGB画像をグレースケール化する\n",
    "img_gray_naive = img_t.mean(-3)  # img_t: 単一画像（例：形状[3,H,W]または[1,3,H,W]）\n",
    "batch_gray_naive = batch_t.mean(-3)  # batch_t: バッチ画像（例：形状[N,3,H,W]）\n",
    "\n",
    "# グレースケール化されたテンソルの形状を確認\n",
    "img_gray_naive.shape, batch_gray_naive.shape"
   ]
  },
  {
   "cell_type": "code",
   "execution_count": 6,
   "id": "2833253a",
   "metadata": {},
   "outputs": [
    {
     "data": {
      "text/plain": [
       "(torch.Size([2, 3, 5, 5]), torch.Size([2, 3, 5, 5]), torch.Size([3, 1, 1]))"
      ]
     },
     "execution_count": 6,
     "metadata": {},
     "output_type": "execute_result"
    }
   ],
   "source": [
    "# 重みベクトル（例：RGBチャンネル用 [0.2989, 0.5870, 0.1140]）をテンソルに変換し、\n",
    "# 高さ・幅方向にブロードキャスト可能なように、2回unsqueezeして形状を [3,1,1] にする\n",
    "unsqueezed_weights = weights.unsqueeze(-1).unsqueeze_(-1)  # shape: [3,1,1]\n",
    "\n",
    "# 各画素に対して、チャンネルごとに重みを掛ける（RGBごとの重み付き画像）\n",
    "img_weights = img_t * unsqueezed_weights  # shape: [3,H,W]\n",
    "batch_weights = batch_t * unsqueezed_weights  # shape: [N,3,H,W]\n",
    "\n",
    "# チャンネル方向（最後から3番目）に沿って重み付き和を取り、グレースケール化\n",
    "img_gray_weighted = img_weights.sum(-3)  # shape: [H,W]\n",
    "batch_gray_weighted = batch_weights.sum(-3)  # shape: [N,H,W]\n",
    "\n",
    "# 各テンソルの最終的な形状を確認\n",
    "batch_weights.shape, batch_t.shape, unsqueezed_weights.shape"
   ]
  },
  {
   "cell_type": "code",
   "execution_count": 7,
   "id": "42145863",
   "metadata": {},
   "outputs": [
    {
     "data": {
      "text/plain": [
       "torch.Size([2, 5, 5])"
      ]
     },
     "execution_count": 7,
     "metadata": {},
     "output_type": "execute_result"
    }
   ],
   "source": [
    "# einsum（Einstein summation）を使って、RGB画像にチャンネル重みをかけてグレースケール化\n",
    "# '...chw,c->...hw' の意味：\n",
    "#   - img_t や batch_t は (..., C, H, W) 形状をしており、C（チャンネル）と重み c を掛け合わせて和を取る\n",
    "#   - ... はバッチ次元や他の任意の次元を保持する\n",
    "#   - 出力はチャンネルを消して (..., H, W) になる\n",
    "\n",
    "img_gray_weighted_fancy = torch.einsum(\n",
    "    \"...chw,c->...hw\", img_t, weights\n",
    ")  # shape: [H, W]\n",
    "batch_gray_weighted_fancy = torch.einsum(\n",
    "    \"...chw,c->...hw\", batch_t, weights\n",
    ")  # shape: [N, H, W]\n",
    "\n",
    "# バッチ版グレースケール画像の形状を確認\n",
    "batch_gray_weighted_fancy.shape"
   ]
  },
  {
   "cell_type": "code",
   "execution_count": 8,
   "id": "93b99e60",
   "metadata": {},
   "outputs": [
    {
     "data": {
      "text/plain": [
       "tensor([0.2126, 0.7152, 0.0722], names=('channels',))"
      ]
     },
     "execution_count": 8,
     "metadata": {},
     "output_type": "execute_result"
    }
   ],
   "source": [
    "weights_named = torch.tensor([0.2126, 0.7152, 0.0722], names=[\"channels\"])\n",
    "weights_named"
   ]
  },
  {
   "cell_type": "code",
   "execution_count": 9,
   "id": "7d7d8112",
   "metadata": {},
   "outputs": [
    {
     "name": "stdout",
     "output_type": "stream",
     "text": [
      "img named: torch.Size([3, 5, 5]) ('channels', 'rows', 'columns')\n",
      "batch named: torch.Size([2, 3, 5, 5]) (None, 'channels', 'rows', 'columns')\n"
     ]
    }
   ],
   "source": [
    "# テンソルに名前付き次元（named tensor）を導入する\n",
    "# refine_names(..., 'channels', 'rows', 'columns') は、最後の3次元をそれぞれ 'channels', 'rows', 'columns' と名付ける\n",
    "# '...' は残りの先頭次元（例: バッチ次元など）を維持するという意味\n",
    "\n",
    "img_named = img_t.refine_names(..., \"channels\", \"rows\", \"columns\")\n",
    "batch_named = batch_t.refine_names(..., \"channels\", \"rows\", \"columns\")\n",
    "\n",
    "# 名前付きテンソルの形状と次元名を確認\n",
    "print(\"img named:\", img_named.shape, img_named.names)\n",
    "print(\"batch named:\", batch_named.shape, batch_named.names)"
   ]
  },
  {
   "cell_type": "code",
   "execution_count": 12,
   "id": "785e22bf",
   "metadata": {},
   "outputs": [
    {
     "data": {
      "text/plain": [
       "(torch.Size([3, 1, 1]), ('channels', 'rows', 'columns'))"
      ]
     },
     "execution_count": 12,
     "metadata": {},
     "output_type": "execute_result"
    }
   ],
   "source": [
    "# weights_named は名前付きテンソル（例: names=['channels']）であると仮定\n",
    "# img_named の名前付き次元 ['channels', 'rows', 'columns'] に合わせて、\n",
    "# weights_named の次元を並び替え＆ブロードキャスト可能な形に調整する\n",
    "\n",
    "weights_aligned = weights_named.align_as(img_named)\n",
    "\n",
    "# weights_aligned の形状と名前付き次元を確認\n",
    "weights_aligned.shape, weights_aligned.names"
   ]
  },
  {
   "cell_type": "code",
   "execution_count": 13,
   "id": "ba557bf9",
   "metadata": {},
   "outputs": [
    {
     "data": {
      "text/plain": [
       "(torch.Size([5, 5]), ('rows', 'columns'))"
      ]
     },
     "execution_count": 13,
     "metadata": {},
     "output_type": "execute_result"
    }
   ],
   "source": [
    "gray_named = (img_named * weights_aligned).sum(\"channels\")\n",
    "gray_named.shape, gray_named.names"
   ]
  }
 ],
 "metadata": {
  "kernelspec": {
   "display_name": "Python (pytorch-env)",
   "language": "python",
   "name": "pytorch-env"
  },
  "language_info": {
   "codemirror_mode": {
    "name": "ipython",
    "version": 3
   },
   "file_extension": ".py",
   "mimetype": "text/x-python",
   "name": "python",
   "nbconvert_exporter": "python",
   "pygments_lexer": "ipython3",
   "version": "3.13.5"
  }
 },
 "nbformat": 4,
 "nbformat_minor": 5
}
