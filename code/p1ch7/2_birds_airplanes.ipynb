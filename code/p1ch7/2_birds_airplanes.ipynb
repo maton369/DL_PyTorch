{
 "cells": [
  {
   "cell_type": "code",
   "execution_count": 1,
   "id": "3f83d920",
   "metadata": {},
   "outputs": [
    {
     "data": {
      "text/plain": [
       "<torch._C.Generator at 0x121801c70>"
      ]
     },
     "execution_count": 1,
     "metadata": {},
     "output_type": "execute_result"
    }
   ],
   "source": [
    "%matplotlib inline\n",
    "from matplotlib import pyplot as plt\n",
    "import numpy as np\n",
    "import torch\n",
    "\n",
    "torch.set_printoptions(edgeitems=2)\n",
    "torch.manual_seed(123)\n"
   ]
  },
  {
   "cell_type": "code",
   "execution_count": 2,
   "id": "b3335591",
   "metadata": {},
   "outputs": [],
   "source": [
    "class_names = [\n",
    "    \"airplane\",\n",
    "    \"automobile\",\n",
    "    \"bird\",\n",
    "    \"cat\",\n",
    "    \"deer\",\n",
    "    \"dog\",\n",
    "    \"frog\",\n",
    "    \"horse\",\n",
    "    \"ship\",\n",
    "    \"truck\",\n",
    "]"
   ]
  },
  {
   "cell_type": "code",
   "execution_count": 3,
   "id": "3d111839",
   "metadata": {},
   "outputs": [],
   "source": [
    "from torchvision import datasets, transforms\n",
    "\n",
    "# CIFAR-10の訓練用データセットを読み込み、\n",
    "# 以下の2つの前処理を適用する：\n",
    "# 1. ToTensor(): PIL画像をPyTorchのTensor形式に変換（ピクセル値を0〜1にスケーリング）\n",
    "# 2. Normalize(): 画像のRGBチャンネルごとに、訓練セット全体の平均と標準偏差を用いて正規化\n",
    "\n",
    "data_path = \"../data-unversioned/p1ch7/\"\n",
    "\n",
    "cifar10 = datasets.CIFAR10(\n",
    "    data_path,  # データを保存するディレクトリ\n",
    "    train=True,  # 訓練用データセットを指定\n",
    "    download=False,  # 既にダウンロード済みのため再取得しない\n",
    "    transform=transforms.Compose(\n",
    "        [  # 複数の変換を順に適用\n",
    "            transforms.ToTensor(),  # PIL → Tensor（float32, 範囲: 0〜1）\n",
    "            transforms.Normalize(  # チャンネルごとの正規化\n",
    "                (0.4915, 0.4823, 0.4468),  # 平均（R, G, B）\n",
    "                (0.2470, 0.2435, 0.2616),  # 標準偏差（R, G, B）\n",
    "            ),\n",
    "        ]\n",
    "    ),\n",
    ")"
   ]
  },
  {
   "cell_type": "code",
   "execution_count": 4,
   "id": "e85bcbce",
   "metadata": {},
   "outputs": [],
   "source": [
    "cifar10_val = datasets.CIFAR10(\n",
    "    data_path,\n",
    "    train=False,\n",
    "    download=False,\n",
    "    transform=transforms.Compose(\n",
    "        [\n",
    "            transforms.ToTensor(),\n",
    "            transforms.Normalize((0.4915, 0.4823, 0.4468), (0.2470, 0.2435, 0.2616)),\n",
    "        ]\n",
    "    ),\n",
    ")"
   ]
  },
  {
   "cell_type": "code",
   "execution_count": 5,
   "id": "19a51fd4",
   "metadata": {},
   "outputs": [],
   "source": [
    "# CIFAR-10の中から \"airplane\" (label=0) と \"bird\" (label=2) のみを抽出し、\n",
    "# ラベルを {0: 0, 2: 1} に変換して2クラス分類用のデータセットを作成する。\n",
    "\n",
    "label_map = {0: 0, 2: 1}  # 元のラベルを2クラス用にマッピング\n",
    "class_names = [\"airplane\", \"bird\"]  # 使用するクラス名\n",
    "\n",
    "# 訓練データから該当クラスのみを抽出し、ラベルを変換\n",
    "cifar2 = [(img, label_map[label]) for img, label in cifar10 if label in [0, 2]]\n",
    "\n",
    "# 検証データから該当クラスのみを抽出し、ラベルを変換\n",
    "cifar2_val = [(img, label_map[label]) for img, label in cifar10_val if label in [0, 2]]"
   ]
  },
  {
   "cell_type": "code",
   "execution_count": 6,
   "id": "90c86460",
   "metadata": {},
   "outputs": [],
   "source": [
    "import torch.nn as nn\n",
    "\n",
    "n_out = 2  # 出力クラス数（airplane, bird の2クラス）\n",
    "\n",
    "# CIFAR-10画像（3チャンネル, 32×32ピクセル = 3072次元）を入力とする多層パーセプトロン（MLP）モデルを構築\n",
    "model = nn.Sequential(\n",
    "    nn.Linear(3072, 512),  # 入力層: 3072次元 → 中間層: 512ユニット\n",
    "    nn.Tanh(),  # 活性化関数: 双曲線正接関数（非線形変換）\n",
    "    nn.Linear(512, n_out),  # 出力層: 512ユニット → 出力クラス数（2クラス）\n",
    ")"
   ]
  },
  {
   "cell_type": "code",
   "execution_count": 7,
   "id": "82651848",
   "metadata": {},
   "outputs": [],
   "source": [
    "def softmax(x):\n",
    "    # ソフトマックス関数：\n",
    "    # 各要素の指数を取り、全要素の指数の合計で割ることで、\n",
    "    # 出力が確率分布（合計1になる）になるようにする\n",
    "    return torch.exp(x) / torch.exp(x).sum()"
   ]
  },
  {
   "cell_type": "code",
   "execution_count": 8,
   "id": "c9637faa",
   "metadata": {},
   "outputs": [
    {
     "data": {
      "text/plain": [
       "tensor([0.0900, 0.2447, 0.6652])"
      ]
     },
     "execution_count": 8,
     "metadata": {},
     "output_type": "execute_result"
    }
   ],
   "source": [
    "x = torch.tensor([1.0, 2.0, 3.0])\n",
    "\n",
    "softmax(x)"
   ]
  },
  {
   "cell_type": "code",
   "execution_count": 9,
   "id": "f262197f",
   "metadata": {},
   "outputs": [
    {
     "data": {
      "text/plain": [
       "tensor(1.)"
      ]
     },
     "execution_count": 9,
     "metadata": {},
     "output_type": "execute_result"
    }
   ],
   "source": [
    "softmax(x).sum()"
   ]
  },
  {
   "cell_type": "code",
   "execution_count": 10,
   "id": "5a714b4e",
   "metadata": {},
   "outputs": [
    {
     "name": "stdout",
     "output_type": "stream",
     "text": [
      "tensor([[0.0900, 0.2447, 0.6652],\n",
      "        [0.0900, 0.2447, 0.6652]])\n"
     ]
    }
   ],
   "source": [
    "# dim=1: 各行ごとにsoftmaxを適用（バッチ内の各サンプルに対して）\n",
    "softmax = nn.Softmax(dim=1)\n",
    "\n",
    "x = torch.tensor([[1.0, 2.0, 3.0], [1.0, 2.0, 3.0]])\n",
    "\n",
    "output = softmax(x)\n",
    "print(output)"
   ]
  },
  {
   "cell_type": "code",
   "execution_count": 11,
   "id": "e8c00319",
   "metadata": {},
   "outputs": [],
   "source": [
    "model = nn.Sequential(\n",
    "    nn.Linear(3072, 512), nn.Tanh(), nn.Linear(512, 2), nn.Softmax(dim=1)\n",
    ")"
   ]
  },
  {
   "cell_type": "code",
   "execution_count": 12,
   "id": "2f41f458",
   "metadata": {},
   "outputs": [
    {
     "name": "stderr",
     "output_type": "stream",
     "text": [
      "Clipping input data to the valid range for imshow with RGB data ([0..1] for floats or [0..255] for integers). Got range [-1.8628641..2.029448].\n"
     ]
    },
    {
     "data": {
      "image/png": "[encoded data removed]",
      "text/plain": [
       "<Figure size 640x480 with 1 Axes>"
      ]
     },
     "metadata": {},
     "output_type": "display_data"
    }
   ],
   "source": [
    "img, _ = cifar2[0]\n",
    "\n",
    "plt.imshow(img.permute(1, 2, 0))\n",
    "plt.show()"
   ]
  },
  {
   "cell_type": "code",
   "execution_count": 13,
   "id": "048bace2",
   "metadata": {},
   "outputs": [],
   "source": [
    "# img: CIFAR画像などのテンソル (例: shape=(3, 32, 32))\n",
    "\n",
    "# view(-1): 画像テンソルを1次元にフラット化（3×32×32 = 3072次元ベクトル）\n",
    "# unsqueeze(0): バッチ次元を追加（shape: (1, 3072)）\n",
    "img_batch = img.view(-1).unsqueeze(0)"
   ]
  },
  {
   "cell_type": "code",
   "execution_count": 14,
   "id": "3cf813b4",
   "metadata": {},
   "outputs": [
    {
     "data": {
      "text/plain": [
       "tensor([[0.4784, 0.5216]], grad_fn=<SoftmaxBackward0>)"
      ]
     },
     "execution_count": 14,
     "metadata": {},
     "output_type": "execute_result"
    }
   ],
   "source": [
    "out = model(img_batch)\n",
    "out"
   ]
  },
  {
   "cell_type": "code",
   "execution_count": 15,
   "id": "51e8c2b0",
   "metadata": {},
   "outputs": [
    {
     "data": {
      "text/plain": [
       "tensor([1])"
      ]
     },
     "execution_count": 15,
     "metadata": {},
     "output_type": "execute_result"
    }
   ],
   "source": [
    "# `out` はモデルの出力テンソル（例：shape = [バッチサイズ, クラス数]）\n",
    "# 各サンプルごとに、最もスコアの高いクラス（最大値のインデックス）を取得する\n",
    "\n",
    "_, index = torch.max(out, dim=1)\n",
    "\n",
    "# `index` は各サンプルについて、最大値（＝予測クラス）のインデックスを持つテンソル\n",
    "# 例：torch.tensor([1, 0, 2]) など（バッチ内3サンプルの予測クラスがそれぞれ1, 0, 2）\n",
    "index"
   ]
  },
  {
   "cell_type": "code",
   "execution_count": 16,
   "id": "8fb0f20c",
   "metadata": {},
   "outputs": [],
   "source": [
    "# 入力画像（3×32×32 = 3072次元）を2クラスに分類する全結合ニューラルネットワークの定義\n",
    "# 活性化関数としてTanhを使用し、最後にLogSoftmaxで対数確率を出力する\n",
    "\n",
    "model = nn.Sequential(\n",
    "    nn.Linear(3072, 512),  # 入力層: 画像のピクセル値を512次元に変換\n",
    "    nn.Tanh(),  # 非線形変換: Tanh関数で活性化（範囲：-1〜1）\n",
    "    nn.Linear(512, 2),  # 出力層: 2クラス（例：飛行機 vs 鳥）に変換\n",
    "    nn.LogSoftmax(\n",
    "        dim=1\n",
    "    ),  # 出力: 各クラスの対数確率を返す（交差エントロピー損失と組み合わせる前提）\n",
    ")"
   ]
  },
  {
   "cell_type": "code",
   "execution_count": 17,
   "id": "45ff74e9",
   "metadata": {},
   "outputs": [],
   "source": [
    "# 損失関数の定義：負の対数尤度損失（Negative Log Likelihood Loss）\n",
    "# 出力がlog-softmax形式（nn.LogSoftmax）であるモデルと一緒に使用する\n",
    "\n",
    "loss = nn.NLLLoss()"
   ]
  },
  {
   "cell_type": "code",
   "execution_count": 18,
   "id": "4be33957",
   "metadata": {},
   "outputs": [
    {
     "data": {
      "text/plain": [
       "tensor(0.5077, grad_fn=<NllLossBackward0>)"
      ]
     },
     "execution_count": 18,
     "metadata": {},
     "output_type": "execute_result"
    }
   ],
   "source": [
    "img, label = cifar2[0]\n",
    "\n",
    "out = model(img.view(-1).unsqueeze(0))\n",
    "\n",
    "loss(out, torch.tensor([label]))"
   ]
  },
  {
   "cell_type": "code",
   "execution_count": 21,
   "id": "249a4ae1",
   "metadata": {},
   "outputs": [
    {
     "name": "stdout",
     "output_type": "stream",
     "text": [
      "Epoch: 0, Loss: 6.079278\n",
      "Epoch: 1, Loss: 7.598315\n",
      "Epoch: 2, Loss: 2.108224\n",
      "Epoch: 3, Loss: 10.835946\n",
      "Epoch: 4, Loss: 7.567768\n",
      "Epoch: 5, Loss: 6.629907\n",
      "Epoch: 6, Loss: 12.274743\n",
      "Epoch: 7, Loss: 4.974216\n",
      "Epoch: 8, Loss: 11.026301\n",
      "Epoch: 9, Loss: 9.617123\n"
     ]
    }
   ],
   "source": [
    "import torch.optim as optim\n",
    "\n",
    "model = nn.Sequential(\n",
    "    nn.Linear(3072, 512), nn.Tanh(), nn.Linear(512, 2), nn.LogSoftmax(dim=1)\n",
    ")\n",
    "\n",
    "learning_rate = 1e-2\n",
    "\n",
    "optimizer = optim.SGD(model.parameters(), lr=learning_rate)\n",
    "\n",
    "loss_fn = nn.NLLLoss()\n",
    "\n",
    "n_epochs = 10\n",
    "\n",
    "for epoch in range(n_epochs):\n",
    "    for img, label in cifar2:\n",
    "        out = model(img.view(-1).unsqueeze(0))\n",
    "        loss = loss_fn(out, torch.tensor([label]))\n",
    "\n",
    "        optimizer.zero_grad()\n",
    "        loss.backward()\n",
    "        optimizer.step()\n",
    "\n",
    "    print(\"Epoch: %d, Loss: %f\" % (epoch, float(loss)))"
   ]
  },
  {
   "cell_type": "code",
   "execution_count": 22,
   "id": "cdc1f8a7",
   "metadata": {},
   "outputs": [],
   "source": [
    "# DataLoaderの定義：学習用データ（cifar2）をミニバッチに分けて供給する\n",
    "# - batch_size=64：一度に64枚の画像を読み込む\n",
    "# - shuffle=True：毎エポックごとにデータの順番をシャッフルして汎化性能を高める\n",
    "\n",
    "train_loader = torch.utils.data.DataLoader(cifar2, batch_size=64, shuffle=True)"
   ]
  },
  {
   "cell_type": "code",
   "execution_count": 24,
   "id": "7a3d31e4",
   "metadata": {},
   "outputs": [
    {
     "name": "stdout",
     "output_type": "stream",
     "text": [
      "Epoch: 0, Loss: 0.419396\n",
      "Epoch: 1, Loss: 0.353266\n",
      "Epoch: 2, Loss: 0.358240\n",
      "Epoch: 3, Loss: 0.400695\n",
      "Epoch: 4, Loss: 0.429707\n",
      "Epoch: 5, Loss: 0.471407\n",
      "Epoch: 6, Loss: 0.319822\n",
      "Epoch: 7, Loss: 0.148314\n",
      "Epoch: 8, Loss: 0.376174\n",
      "Epoch: 9, Loss: 0.364801\n",
      "Epoch: 10, Loss: 0.398969\n",
      "Epoch: 11, Loss: 0.154077\n",
      "Epoch: 12, Loss: 0.216580\n",
      "Epoch: 13, Loss: 0.263219\n",
      "Epoch: 14, Loss: 0.449941\n",
      "Epoch: 15, Loss: 0.605801\n",
      "Epoch: 16, Loss: 0.392557\n",
      "Epoch: 17, Loss: 0.449708\n",
      "Epoch: 18, Loss: 0.264848\n",
      "Epoch: 19, Loss: 0.494987\n",
      "Epoch: 20, Loss: 0.141137\n",
      "Epoch: 21, Loss: 0.246362\n",
      "Epoch: 22, Loss: 0.632205\n",
      "Epoch: 23, Loss: 0.298713\n",
      "Epoch: 24, Loss: 0.220602\n",
      "Epoch: 25, Loss: 0.292281\n",
      "Epoch: 26, Loss: 0.315676\n",
      "Epoch: 27, Loss: 0.226785\n",
      "Epoch: 28, Loss: 0.199365\n",
      "Epoch: 29, Loss: 0.269055\n",
      "Epoch: 30, Loss: 0.054453\n",
      "Epoch: 31, Loss: 0.206067\n",
      "Epoch: 32, Loss: 0.252586\n",
      "Epoch: 33, Loss: 0.125446\n",
      "Epoch: 34, Loss: 0.196721\n",
      "Epoch: 35, Loss: 0.182928\n",
      "Epoch: 36, Loss: 0.114497\n",
      "Epoch: 37, Loss: 0.150746\n",
      "Epoch: 38, Loss: 0.210336\n",
      "Epoch: 39, Loss: 0.090225\n",
      "Epoch: 40, Loss: 0.135327\n",
      "Epoch: 41, Loss: 0.243099\n",
      "Epoch: 42, Loss: 0.078004\n",
      "Epoch: 43, Loss: 0.096502\n",
      "Epoch: 44, Loss: 0.074525\n",
      "Epoch: 45, Loss: 0.120142\n",
      "Epoch: 46, Loss: 0.119961\n",
      "Epoch: 47, Loss: 0.158445\n",
      "Epoch: 48, Loss: 0.041873\n",
      "Epoch: 49, Loss: 0.029363\n",
      "Epoch: 50, Loss: 0.109245\n",
      "Epoch: 51, Loss: 0.028567\n",
      "Epoch: 52, Loss: 0.089713\n",
      "Epoch: 53, Loss: 0.080910\n",
      "Epoch: 54, Loss: 0.132659\n",
      "Epoch: 55, Loss: 0.038777\n",
      "Epoch: 56, Loss: 0.047422\n",
      "Epoch: 57, Loss: 0.057227\n",
      "Epoch: 58, Loss: 0.095332\n",
      "Epoch: 59, Loss: 0.050806\n",
      "Epoch: 60, Loss: 0.090432\n",
      "Epoch: 61, Loss: 0.027817\n",
      "Epoch: 62, Loss: 0.104231\n",
      "Epoch: 63, Loss: 0.058049\n",
      "Epoch: 64, Loss: 0.084218\n",
      "Epoch: 65, Loss: 0.107187\n",
      "Epoch: 66, Loss: 0.049083\n",
      "Epoch: 67, Loss: 0.079775\n",
      "Epoch: 68, Loss: 0.044667\n",
      "Epoch: 69, Loss: 0.016554\n",
      "Epoch: 70, Loss: 0.071466\n",
      "Epoch: 71, Loss: 0.082602\n",
      "Epoch: 72, Loss: 0.021504\n",
      "Epoch: 73, Loss: 0.043905\n",
      "Epoch: 74, Loss: 0.035640\n",
      "Epoch: 75, Loss: 0.081018\n",
      "Epoch: 76, Loss: 0.013851\n",
      "Epoch: 77, Loss: 0.043245\n",
      "Epoch: 78, Loss: 0.027304\n",
      "Epoch: 79, Loss: 0.059829\n",
      "Epoch: 80, Loss: 0.027895\n",
      "Epoch: 81, Loss: 0.079634\n",
      "Epoch: 82, Loss: 0.024405\n",
      "Epoch: 83, Loss: 0.023356\n",
      "Epoch: 84, Loss: 0.034144\n",
      "Epoch: 85, Loss: 0.034326\n",
      "Epoch: 86, Loss: 0.014500\n",
      "Epoch: 87, Loss: 0.010436\n",
      "Epoch: 88, Loss: 0.034524\n",
      "Epoch: 89, Loss: 0.041588\n",
      "Epoch: 90, Loss: 0.017321\n",
      "Epoch: 91, Loss: 0.020087\n",
      "Epoch: 92, Loss: 0.040375\n",
      "Epoch: 93, Loss: 0.010160\n",
      "Epoch: 94, Loss: 0.042795\n",
      "Epoch: 95, Loss: 0.020476\n",
      "Epoch: 96, Loss: 0.055830\n",
      "Epoch: 97, Loss: 0.013103\n",
      "Epoch: 98, Loss: 0.022424\n",
      "Epoch: 99, Loss: 0.020298\n"
     ]
    }
   ],
   "source": [
    "# CIFAR-2データセットの2クラス分類モデルの学習ループ\n",
    "# 入力：3x32x32画像を1次元（3072次元）にflattenして全結合ネットワークに通す\n",
    "# ネットワーク構造：Linear(3072→128) → Tanh → Linear(128→2) → LogSoftmax\n",
    "# 最適化手法：確率的勾配降下法（SGD）、損失関数：負の対数尤度損失（NLLLoss）\n",
    "\n",
    "train_loader = torch.utils.data.DataLoader(cifar2, batch_size=64, shuffle=True)\n",
    "\n",
    "model = nn.Sequential(\n",
    "    nn.Linear(3072, 128),  # 入力層（3072次元）から中間層（128次元）\n",
    "    nn.Tanh(),  # 活性化関数（双曲線正接）\n",
    "    nn.Linear(128, 2),  # 出力層（2クラス分類）\n",
    "    nn.LogSoftmax(dim=1),  # 出力を対数ソフトマックスに変換（NLLLossに対応）\n",
    ")\n",
    "\n",
    "learning_rate = 1e-2\n",
    "optimizer = optim.SGD(model.parameters(), lr=learning_rate)\n",
    "loss_fn = nn.NLLLoss()\n",
    "n_epochs = 100\n",
    "\n",
    "# 学習ループ\n",
    "for epoch in range(n_epochs):\n",
    "    for imgs, labels in train_loader:\n",
    "        # 画像を1次元（バッチサイズ x 3072）にflatten\n",
    "        outputs = model(imgs.view(imgs.shape[0], -1))  # 順伝播\n",
    "        loss = loss_fn(outputs, labels)  # 損失計算\n",
    "\n",
    "        optimizer.zero_grad()  # 勾配初期化\n",
    "        loss.backward()  # 勾配計算（逆伝播）\n",
    "        optimizer.step()  # パラメータ更新\n",
    "\n",
    "    print(\"Epoch: %d, Loss: %f\" % (epoch, float(loss)))  # 各エポック終了時に損失表示"
   ]
  },
  {
   "cell_type": "code",
   "execution_count": 25,
   "id": "336b403f",
   "metadata": {},
   "outputs": [
    {
     "name": "stdout",
     "output_type": "stream",
     "text": [
      "Epoch: 0, Loss: 0.512133\n",
      "Epoch: 1, Loss: 0.555352\n",
      "Epoch: 2, Loss: 0.436777\n",
      "Epoch: 3, Loss: 0.351507\n",
      "Epoch: 4, Loss: 0.277133\n",
      "Epoch: 5, Loss: 0.523798\n",
      "Epoch: 6, Loss: 0.413200\n",
      "Epoch: 7, Loss: 0.392049\n",
      "Epoch: 8, Loss: 0.502444\n",
      "Epoch: 9, Loss: 0.569020\n",
      "Epoch: 10, Loss: 0.437988\n",
      "Epoch: 11, Loss: 0.464160\n",
      "Epoch: 12, Loss: 0.403606\n",
      "Epoch: 13, Loss: 0.366443\n",
      "Epoch: 14, Loss: 0.258983\n",
      "Epoch: 15, Loss: 0.443610\n",
      "Epoch: 16, Loss: 0.270309\n",
      "Epoch: 17, Loss: 0.460021\n",
      "Epoch: 18, Loss: 0.198564\n",
      "Epoch: 19, Loss: 0.424789\n",
      "Epoch: 20, Loss: 0.199077\n",
      "Epoch: 21, Loss: 0.398109\n",
      "Epoch: 22, Loss: 0.270855\n",
      "Epoch: 23, Loss: 0.321322\n",
      "Epoch: 24, Loss: 0.225489\n",
      "Epoch: 25, Loss: 0.276578\n",
      "Epoch: 26, Loss: 0.193953\n",
      "Epoch: 27, Loss: 0.135430\n",
      "Epoch: 28, Loss: 0.444134\n",
      "Epoch: 29, Loss: 0.174300\n",
      "Epoch: 30, Loss: 0.161188\n",
      "Epoch: 31, Loss: 0.225456\n",
      "Epoch: 32, Loss: 0.298732\n",
      "Epoch: 33, Loss: 0.317133\n",
      "Epoch: 34, Loss: 0.173825\n",
      "Epoch: 35, Loss: 0.191741\n",
      "Epoch: 36, Loss: 0.087191\n",
      "Epoch: 37, Loss: 0.125472\n",
      "Epoch: 38, Loss: 0.257121\n",
      "Epoch: 39, Loss: 0.043465\n",
      "Epoch: 40, Loss: 0.196362\n",
      "Epoch: 41, Loss: 0.100259\n",
      "Epoch: 42, Loss: 0.104249\n",
      "Epoch: 43, Loss: 0.299599\n",
      "Epoch: 44, Loss: 0.091202\n",
      "Epoch: 45, Loss: 0.145911\n",
      "Epoch: 46, Loss: 0.268954\n",
      "Epoch: 47, Loss: 0.048175\n",
      "Epoch: 48, Loss: 0.259206\n",
      "Epoch: 49, Loss: 0.089254\n",
      "Epoch: 50, Loss: 0.077463\n",
      "Epoch: 51, Loss: 0.040271\n",
      "Epoch: 52, Loss: 0.081585\n",
      "Epoch: 53, Loss: 0.098959\n",
      "Epoch: 54, Loss: 0.072516\n",
      "Epoch: 55, Loss: 0.068711\n",
      "Epoch: 56, Loss: 0.098366\n",
      "Epoch: 57, Loss: 0.024515\n",
      "Epoch: 58, Loss: 0.074090\n",
      "Epoch: 59, Loss: 0.136832\n",
      "Epoch: 60, Loss: 0.032032\n",
      "Epoch: 61, Loss: 0.012830\n",
      "Epoch: 62, Loss: 0.041424\n",
      "Epoch: 63, Loss: 0.052375\n",
      "Epoch: 64, Loss: 0.028968\n",
      "Epoch: 65, Loss: 0.034784\n",
      "Epoch: 66, Loss: 0.039455\n",
      "Epoch: 67, Loss: 0.053474\n",
      "Epoch: 68, Loss: 0.014809\n",
      "Epoch: 69, Loss: 0.031650\n",
      "Epoch: 70, Loss: 0.034508\n",
      "Epoch: 71, Loss: 0.033960\n",
      "Epoch: 72, Loss: 0.024942\n",
      "Epoch: 73, Loss: 0.051989\n",
      "Epoch: 74, Loss: 0.007707\n",
      "Epoch: 75, Loss: 0.057815\n",
      "Epoch: 76, Loss: 0.050221\n",
      "Epoch: 77, Loss: 0.018923\n",
      "Epoch: 78, Loss: 0.014137\n",
      "Epoch: 79, Loss: 0.007485\n",
      "Epoch: 80, Loss: 0.063251\n",
      "Epoch: 81, Loss: 0.048261\n",
      "Epoch: 82, Loss: 0.035137\n",
      "Epoch: 83, Loss: 0.037646\n",
      "Epoch: 84, Loss: 0.023419\n",
      "Epoch: 85, Loss: 0.026348\n",
      "Epoch: 86, Loss: 0.011457\n",
      "Epoch: 87, Loss: 0.028547\n",
      "Epoch: 88, Loss: 0.022950\n",
      "Epoch: 89, Loss: 0.025783\n",
      "Epoch: 90, Loss: 0.022340\n",
      "Epoch: 91, Loss: 0.013042\n",
      "Epoch: 92, Loss: 0.005815\n",
      "Epoch: 93, Loss: 0.032828\n",
      "Epoch: 94, Loss: 0.040715\n",
      "Epoch: 95, Loss: 0.008702\n",
      "Epoch: 96, Loss: 0.011788\n",
      "Epoch: 97, Loss: 0.018336\n",
      "Epoch: 98, Loss: 0.010726\n",
      "Epoch: 99, Loss: 0.013249\n"
     ]
    }
   ],
   "source": [
    "# CIFAR-2分類モデルの訓練スクリプト\n",
    "# - モデル：全結合ニューラルネットワーク（2層）\n",
    "# - 活性化関数：Tanh\n",
    "# - 出力：2クラス用のLogSoftmax\n",
    "# - 損失関数：負の対数尤度損失（NLLLoss）\n",
    "# - 最適化手法：SGD（学習率 0.01）\n",
    "\n",
    "train_loader = torch.utils.data.DataLoader(cifar2, batch_size=64, shuffle=True)\n",
    "\n",
    "model = nn.Sequential(\n",
    "    nn.Linear(3072, 512),  # 入力画像（3x32x32 = 3072）→中間層（512）\n",
    "    nn.Tanh(),  # Tanh活性化関数\n",
    "    nn.Linear(512, 2),  # 中間層→出力層（2クラス）\n",
    "    nn.LogSoftmax(dim=1),  # 出力に対してLogSoftmaxを適用\n",
    ")\n",
    "\n",
    "learning_rate = 1e-2\n",
    "optimizer = optim.SGD(model.parameters(), lr=learning_rate)  # SGDによる最適化\n",
    "loss_fn = nn.NLLLoss()  # 負の対数尤度損失（LogSoftmaxに対応）\n",
    "n_epochs = 100\n",
    "\n",
    "# 学習ループ（100エポック）\n",
    "for epoch in range(n_epochs):\n",
    "    for imgs, labels in train_loader:\n",
    "        outputs = model(imgs.view(imgs.shape[0], -1))  # 画像をflattenして入力\n",
    "        loss = loss_fn(outputs, labels)  # 損失を計算\n",
    "\n",
    "        optimizer.zero_grad()  # 勾配を初期化\n",
    "        loss.backward()  # 誤差逆伝播による勾配計算\n",
    "        optimizer.step()  # パラメータを更新\n",
    "\n",
    "    print(\"Epoch: %d, Loss: %f\" % (epoch, float(loss)))  # エポックごとの損失を表示"
   ]
  },
  {
   "cell_type": "code",
   "execution_count": 26,
   "id": "ce1d0ec2",
   "metadata": {},
   "outputs": [
    {
     "name": "stdout",
     "output_type": "stream",
     "text": [
      "Accuracy: 0.999500\n"
     ]
    }
   ],
   "source": [
    "# 学習済みモデルによる訓練データ上での分類精度評価\n",
    "# - 評価時は勾配を追跡しないよう torch.no_grad() を使用\n",
    "# - DataLoader の shuffle=False により順序を保ったまま評価\n",
    "\n",
    "train_loader = torch.utils.data.DataLoader(cifar2, batch_size=64, shuffle=False)\n",
    "\n",
    "correct = 0  # 正解数のカウント\n",
    "total = 0  # 総サンプル数\n",
    "\n",
    "with torch.no_grad():  # 評価中は勾配計算を無効化\n",
    "    for imgs, labels in train_loader:\n",
    "        outputs = model(imgs.view(imgs.shape[0], -1))  # 入力画像をflattenして予測\n",
    "        _, predicted = torch.max(outputs, dim=1)  # 出力最大のクラスを予測値とする\n",
    "        total += labels.shape[0]\n",
    "        correct += int((predicted == labels).sum())  # 正解との一致数を加算\n",
    "\n",
    "print(\"Accuracy: %f\" % (correct / total))  # 精度（Accuracy）を表示"
   ]
  },
  {
   "cell_type": "code",
   "execution_count": 27,
   "id": "ee9491ad",
   "metadata": {},
   "outputs": [
    {
     "name": "stdout",
     "output_type": "stream",
     "text": [
      "Accuracy: 0.817500\n"
     ]
    }
   ],
   "source": [
    "val_loader = torch.utils.data.DataLoader(cifar2_val, batch_size=64, shuffle=False)\n",
    "\n",
    "correct = 0\n",
    "total = 0\n",
    "\n",
    "with torch.no_grad():\n",
    "    for imgs, labels in val_loader:\n",
    "        outputs = model(imgs.view(imgs.shape[0], -1))\n",
    "        _, predicted = torch.max(outputs, dim=1)\n",
    "        total += labels.shape[0]\n",
    "        correct += int((predicted == labels).sum())\n",
    "\n",
    "print(\"Accuracy: %f\" % (correct / total))"
   ]
  },
  {
   "cell_type": "code",
   "execution_count": 28,
   "id": "0c596f85",
   "metadata": {},
   "outputs": [],
   "source": [
    "model = nn.Sequential(\n",
    "    nn.Linear(3072, 1024),\n",
    "    nn.Tanh(),\n",
    "    nn.Linear(1024, 512),\n",
    "    nn.Tanh(),\n",
    "    nn.Linear(512, 128),\n",
    "    nn.Tanh(),\n",
    "    nn.Linear(128, 2),\n",
    "    nn.LogSoftmax(dim=1),\n",
    ")"
   ]
  },
  {
   "cell_type": "code",
   "execution_count": 29,
   "id": "bba88bad",
   "metadata": {},
   "outputs": [],
   "source": [
    "model = nn.Sequential(\n",
    "    nn.Linear(3072, 1024),\n",
    "    nn.Tanh(),\n",
    "    nn.Linear(1024, 512),\n",
    "    nn.Tanh(),\n",
    "    nn.Linear(512, 128),\n",
    "    nn.Tanh(),\n",
    "    nn.Linear(128, 2),\n",
    ")\n",
    "\n",
    "loss_fn = nn.CrossEntropyLoss()"
   ]
  },
  {
   "cell_type": "code",
   "execution_count": 31,
   "id": "176457e1",
   "metadata": {},
   "outputs": [
    {
     "name": "stdout",
     "output_type": "stream",
     "text": [
      "Epoch: 0, Loss: 0.364529\n",
      "Epoch: 1, Loss: 0.607475\n",
      "Epoch: 2, Loss: 0.274583\n",
      "Epoch: 3, Loss: 0.461011\n",
      "Epoch: 4, Loss: 0.447233\n",
      "Epoch: 5, Loss: 0.593781\n",
      "Epoch: 6, Loss: 0.311108\n",
      "Epoch: 7, Loss: 0.437446\n",
      "Epoch: 8, Loss: 0.278297\n",
      "Epoch: 9, Loss: 0.240712\n"
     ]
    }
   ],
   "source": [
    "train_loader = torch.utils.data.DataLoader(cifar2, batch_size=64, shuffle=True)\n",
    "\n",
    "model = nn.Sequential(\n",
    "    nn.Linear(3072, 1024),\n",
    "    nn.Tanh(),\n",
    "    nn.Linear(1024, 512),\n",
    "    nn.Tanh(),\n",
    "    nn.Linear(512, 128),\n",
    "    nn.Tanh(),\n",
    "    nn.Linear(128, 2),\n",
    ")\n",
    "\n",
    "learning_rate = 1e-2\n",
    "\n",
    "optimizer = optim.SGD(model.parameters(), lr=learning_rate)\n",
    "\n",
    "loss_fn = nn.CrossEntropyLoss()\n",
    "\n",
    "n_epochs = 10\n",
    "\n",
    "for epoch in range(n_epochs):\n",
    "    for imgs, labels in train_loader:\n",
    "        outputs = model(imgs.view(imgs.shape[0], -1))\n",
    "        loss = loss_fn(outputs, labels)\n",
    "\n",
    "        optimizer.zero_grad()\n",
    "        loss.backward()\n",
    "        optimizer.step()\n",
    "\n",
    "    print(\"Epoch: %d, Loss: %f\" % (epoch, float(loss)))"
   ]
  },
  {
   "cell_type": "code",
   "execution_count": 32,
   "id": "2944240b",
   "metadata": {},
   "outputs": [
    {
     "name": "stdout",
     "output_type": "stream",
     "text": [
      "Accuracy: 0.803600\n"
     ]
    }
   ],
   "source": [
    "train_loader = torch.utils.data.DataLoader(cifar2, batch_size=64, shuffle=False)\n",
    "\n",
    "correct = 0\n",
    "total = 0\n",
    "\n",
    "with torch.no_grad():\n",
    "    for imgs, labels in train_loader:\n",
    "        outputs = model(imgs.view(imgs.shape[0], -1))\n",
    "        _, predicted = torch.max(outputs, dim=1)\n",
    "        total += labels.shape[0]\n",
    "        correct += int((predicted == labels).sum())\n",
    "\n",
    "print(\"Accuracy: %f\" % (correct / total))"
   ]
  },
  {
   "cell_type": "code",
   "execution_count": 33,
   "id": "f9771183",
   "metadata": {},
   "outputs": [
    {
     "name": "stdout",
     "output_type": "stream",
     "text": [
      "Accuracy: 0.789500\n"
     ]
    }
   ],
   "source": [
    "val_loader = torch.utils.data.DataLoader(cifar2_val, batch_size=64, shuffle=False)\n",
    "\n",
    "correct = 0\n",
    "total = 0\n",
    "\n",
    "with torch.no_grad():\n",
    "    for imgs, labels in val_loader:\n",
    "        outputs = model(imgs.view(imgs.shape[0], -1))\n",
    "        _, predicted = torch.max(outputs, dim=1)\n",
    "        total += labels.shape[0]\n",
    "        correct += int((predicted == labels).sum())\n",
    "\n",
    "print(\"Accuracy: %f\" % (correct / total))"
   ]
  },
  {
   "cell_type": "code",
   "execution_count": null,
   "id": "5e4cfabc",
   "metadata": {},
   "outputs": [],
   "source": []
  }
 ],
 "metadata": {
  "kernelspec": {
   "display_name": "Python (pytorch-env)",
   "language": "python",
   "name": "pytorch-env"
  },
  "language_info": {
   "codemirror_mode": {
    "name": "ipython",
    "version": 3
   },
   "file_extension": ".py",
   "mimetype": "text/x-python",
   "name": "python",
   "nbconvert_exporter": "python",
   "pygments_lexer": "ipython3",
   "version": "3.13.5"
  }
 },
 "nbformat": 4,
 "nbformat_minor": 5
}
