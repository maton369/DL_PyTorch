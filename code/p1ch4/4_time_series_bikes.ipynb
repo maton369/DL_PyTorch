{
 "cells": [
  {
   "cell_type": "code",
   "execution_count": 1,
   "id": "9cdfde5d",
   "metadata": {},
   "outputs": [],
   "source": [
    "import numpy as np\n",
    "import torch\n",
    "\n",
    "# PyTorchテンソルの出力表示を見やすく設定\n",
    "torch.set_printoptions(\n",
    "    edgeitems=2,  # 各次元の先頭・末尾2個の要素だけ表示（中間は \"...\" で省略）\n",
    "    threshold=50,  # 要素数がこれを超えると省略表示になる\n",
    "    linewidth=75,  # 1行の最大表示幅。これを超えると自動改行される\n",
    ")"
   ]
  },
  {
   "cell_type": "code",
   "execution_count": null,
   "id": "8c7ee389",
   "metadata": {},
   "outputs": [
    {
     "data": {
      "text/plain": [
       "tensor([[1.0000e+00, 1.0000e+00,  ..., 1.3000e+01, 1.6000e+01],\n",
       "        [2.0000e+00, 1.0000e+00,  ..., 3.2000e+01, 4.0000e+01],\n",
       "        ...,\n",
       "        [1.7378e+04, 3.1000e+01,  ..., 4.8000e+01, 6.1000e+01],\n",
       "        [1.7379e+04, 3.1000e+01,  ..., 3.7000e+01, 4.9000e+01]])"
      ]
     },
     "execution_count": 4,
     "metadata": {},
     "output_type": "execute_result"
    }
   ],
   "source": [
    "# CSVファイルからバイクシェアデータ（時間単位）を読み込み\n",
    "bikes_numpy = np.loadtxt(\n",
    "    \"../../data/p1ch4/bike-sharing-dataset/hour-fixed.csv\",\n",
    "    dtype=np.float32,  # 全データを float32 型として読み込む\n",
    "    delimiter=\",\",  # カンマ区切りのCSVファイル\n",
    "    skiprows=1,  # ヘッダー行をスキップ\n",
    "    converters={\n",
    "        1: lambda x: float(x[8:10])  # <1> 2列目（index=1）を \"日付から日だけ抽出\"\n",
    "        # 例: \"2011-01-01\" → x[8:10] → \"01\" → float → 1.0\n",
    "    },\n",
    ")\n",
    "\n",
    "# NumPy配列からPyTorchテンソルへ変換\n",
    "bikes = torch.from_numpy(bikes_numpy)\n",
    "\n",
    "# 結果を表示（テンソルの形状や内容の確認）\n",
    "bikes"
   ]
  },
  {
   "cell_type": "code",
   "execution_count": 5,
   "id": "663f7888",
   "metadata": {},
   "outputs": [
    {
     "data": {
      "text/plain": [
       "(torch.Size([17520, 17]), (17, 1))"
      ]
     },
     "execution_count": 5,
     "metadata": {},
     "output_type": "execute_result"
    }
   ],
   "source": [
    "bikes.shape, bikes.stride()"
   ]
  },
  {
   "cell_type": "code",
   "execution_count": 6,
   "id": "0b25a23f",
   "metadata": {},
   "outputs": [
    {
     "data": {
      "text/plain": [
       "(torch.Size([730, 24, 17]), (408, 17, 1))"
      ]
     },
     "execution_count": 6,
     "metadata": {},
     "output_type": "execute_result"
    }
   ],
   "source": [
    "# bikes: shape = [17520, 17]（17520時間分、各時点17特徴量）\n",
    "\n",
    "# 1日24時間ごとに区切って reshape（view）→ [日数, 24時間, 特徴量]\n",
    "daily_bikes = bikes.view(-1, 24, bikes.shape[1])\n",
    "\n",
    "# 結果の形状とストライドを確認\n",
    "daily_bikes.shape, daily_bikes.stride()"
   ]
  },
  {
   "cell_type": "code",
   "execution_count": 7,
   "id": "d78a3558",
   "metadata": {},
   "outputs": [
    {
     "data": {
      "text/plain": [
       "(torch.Size([730, 17, 24]), (408, 1, 17))"
      ]
     },
     "execution_count": 7,
     "metadata": {},
     "output_type": "execute_result"
    }
   ],
   "source": [
    "# daily_bikes: shape = (730, 17, 24)\n",
    "# これは [日数, 特徴量数, 時間数] の構造で、各日について各特徴量の時間変化を表している\n",
    "\n",
    "# transpose(1, 2) により、特徴量軸（1）と時間軸（2）を入れ替える\n",
    "# 結果：shape = (730, 24, 17) となり、\n",
    "# 各日について「時間ごとの特徴量ベクトル」が並ぶ構造に変わる\n",
    "# これは例えば RNN で時間ごとの入力を処理したい場合などに便利な形\n",
    "daily_bikes = daily_bikes.transpose(1, 2)\n",
    "\n",
    "daily_bikes.shape, daily_bikes.stride()"
   ]
  },
  {
   "cell_type": "code",
   "execution_count": 8,
   "id": "e9e20ea9",
   "metadata": {},
   "outputs": [
    {
     "data": {
      "text/plain": [
       "tensor([1, 1, 1, 1, 1, 2, 1, 1, 1, 1, 1, 1, 1, 2, 2, 2, 2, 2, 3, 3, 2, 2,\n",
       "        2, 2])"
      ]
     },
     "execution_count": 8,
     "metadata": {},
     "output_type": "execute_result"
    }
   ],
   "source": [
    "# 1日目の24時間分のデータを抽出（行番号0〜23）\n",
    "# bikes: shape = (17520, 17)\n",
    "# 各行：1時間分のデータ（17特徴量）\n",
    "# [:24] で最初の24時間（1日分）を抜き出す\n",
    "first_day = bikes[:24].long()\n",
    "\n",
    "# 天候IDは9列目に格納されており、0〜3の整数値\n",
    "# この天候IDに対応するワンホットベクトルを作成するためのテンソルを定義\n",
    "# shape: (24時間, 4種の天候クラス)\n",
    "weather_onehot = torch.zeros(first_day.shape[0], 4)\n",
    "\n",
    "# 天候情報（0〜3）を抽出\n",
    "first_day[:, 9]"
   ]
  },
  {
   "cell_type": "code",
   "execution_count": 9,
   "id": "1514bc63",
   "metadata": {},
   "outputs": [
    {
     "data": {
      "text/plain": [
       "tensor([[1., 0., 0., 0.],\n",
       "        [1., 0., 0., 0.],\n",
       "        ...,\n",
       "        [0., 1., 0., 0.],\n",
       "        [0., 1., 0., 0.]])"
      ]
     },
     "execution_count": 9,
     "metadata": {},
     "output_type": "execute_result"
    }
   ],
   "source": [
    "# 天候IDは1〜4の整数で表されている（例: 1=晴れ, 2=曇り, 3=雨, 4=雪）\n",
    "# それを0〜3に変換するために -1 をしてインデックス化（<1>）\n",
    "\n",
    "# scatter_ を使って、ワンホットエンコーディングを実施：\n",
    "# - dim=1: 各行の天候ID位置に 1.0 をセットする\n",
    "# - index: shape = [24, 1] の天候インデックス（0〜3）に変換\n",
    "# - value: その位置に代入する値（ここでは 1.0）\n",
    "weather_onehot.scatter_(\n",
    "    dim=1, index=first_day[:, 9].unsqueeze(1).long() - 1, value=1.0  # <1>\n",
    ")"
   ]
  },
  {
   "cell_type": "code",
   "execution_count": 14,
   "id": "8f7672e2",
   "metadata": {},
   "outputs": [
    {
     "data": {
      "text/plain": [
       "tensor([[ 1.0000,  1.0000,  1.0000,  0.0000,  1.0000,  0.0000,  0.0000,\n",
       "          6.0000,  0.0000,  1.0000,  0.2400,  0.2879,  0.8100,  0.0000,\n",
       "          3.0000, 13.0000, 16.0000,  1.0000,  0.0000,  0.0000,  0.0000]])"
      ]
     },
     "execution_count": 14,
     "metadata": {},
     "output_type": "execute_result"
    }
   ],
   "source": [
    "# 最初の24時間分（1日）のデータ（shape: 24, 17）と、\n",
    "# 対応する天候のワンホットベクトル（shape: 24, 4）を列方向に連結し、\n",
    "# 拡張した特徴量ベクトル（shape: 24, 21）を得る\n",
    "# そのうち最初の1時間（1行）のデータのみを抽出\n",
    "torch.cat((bikes[:24], weather_onehot), 1)[:1]"
   ]
  },
  {
   "cell_type": "code",
   "execution_count": 15,
   "id": "db2813c1",
   "metadata": {},
   "outputs": [
    {
     "data": {
      "text/plain": [
       "torch.Size([730, 4, 24])"
      ]
     },
     "execution_count": 15,
     "metadata": {},
     "output_type": "execute_result"
    }
   ],
   "source": [
    "# 日ごとの天候をワンホット形式で保持するためのテンソルを作成\n",
    "# daily_bikes.shape = (日数, 時間数, 特徴量数)\n",
    "# ここでは shape = (日数, 4, 特徴量数) のゼロテンソルを用意\n",
    "# - 第1軸（dim=0）: 日数\n",
    "# - 第2軸（dim=1）: 天候のクラス数（ワンホット用）\n",
    "# - 第3軸（dim=2）: 特徴量方向へbroadcastするための軸\n",
    "daily_weather_onehot = torch.zeros(daily_bikes.shape[0], 4, daily_bikes.shape[2])\n",
    "\n",
    "# 形状確認：例 → torch.Size([730, 4, 17])\n",
    "daily_weather_onehot.shape"
   ]
  },
  {
   "cell_type": "code",
   "execution_count": 16,
   "id": "fce57f7e",
   "metadata": {},
   "outputs": [
    {
     "data": {
      "text/plain": [
       "torch.Size([730, 4, 24])"
      ]
     },
     "execution_count": 16,
     "metadata": {},
     "output_type": "execute_result"
    }
   ],
   "source": [
    "# daily_bikes[:, 9, :] は、全日数（dim=0）に対する\n",
    "# 「天候ID（9番目の特徴量）」×「24時間分（dim=2）」を抽出する\n",
    "# 結果：shape = (730, 24) の2次元テンソル（整数の天候ID）\n",
    "\n",
    "# `.unsqueeze(1)` によって shape = (730, 1, 24) に変形\n",
    "# scatter_ の dim=1 で天候IDに対応する位置に 1.0 を代入する\n",
    "\n",
    "daily_weather_onehot.scatter_(\n",
    "    1,  # 書き込み対象：天候クラス軸\n",
    "    daily_bikes[:, 9, :].long().unsqueeze(1) - 1,  # 天候ID（1〜4）→（0〜3）\n",
    "    1.0,  # 代入する値\n",
    ")\n",
    "\n",
    "# 結果：各日の各時間に対応する天候IDを1-hot表現として記録\n",
    "daily_weather_onehot.shape  # → torch.Size([730, 4, 17])"
   ]
  },
  {
   "cell_type": "code",
   "execution_count": 20,
   "id": "0d79ad75",
   "metadata": {},
   "outputs": [],
   "source": [
    "# 特徴量テンソルに天候のワンホットを追加\n",
    "daily_bikes = torch.cat((daily_bikes, daily_weather_onehot), dim=2)"
   ]
  },
  {
   "cell_type": "code",
   "execution_count": 22,
   "id": "1fd8800b",
   "metadata": {},
   "outputs": [],
   "source": [
    "# 特徴量の9番目（天候ID：1〜4）を0〜1の範囲に正規化\n",
    "# → 全日数・全時間帯で適用\n",
    "daily_bikes[:, :, 9] = (daily_bikes[:, :, 9] - 1.0) / 3.0"
   ]
  },
  {
   "cell_type": "code",
   "execution_count": 23,
   "id": "bd536d40",
   "metadata": {},
   "outputs": [],
   "source": [
    "# 特徴量10番目（気温）を抽出（日数×時間の2次元テンソル）\n",
    "temp = daily_bikes[:, 10, :]\n",
    "\n",
    "# 全体の最小・最大を取得（スカラー）\n",
    "temp_min = torch.min(temp)\n",
    "temp_max = torch.max(temp)\n",
    "\n",
    "# Min-Max正規化: 全データの気温を0〜1にスケーリング\n",
    "daily_bikes[:, 10, :] = (temp - temp_min) / (temp_max - temp_min)"
   ]
  },
  {
   "cell_type": "code",
   "execution_count": 24,
   "id": "b3daa4c2",
   "metadata": {},
   "outputs": [],
   "source": [
    "# 特徴量10番目（気温）を抽出（shape: 730日 × 24時間）\n",
    "temp = daily_bikes[:, 10, :]\n",
    "\n",
    "# 気温データを標準化（平均0、標準偏差1にスケーリング）\n",
    "daily_bikes[:, 10, :] = (temp - torch.mean(temp)) / torch.std(temp)"
   ]
  }
 ],
 "metadata": {
  "kernelspec": {
   "display_name": "Python (pytorch-env)",
   "language": "python",
   "name": "pytorch-env"
  },
  "language_info": {
   "codemirror_mode": {
    "name": "ipython",
    "version": 3
   },
   "file_extension": ".py",
   "mimetype": "text/x-python",
   "name": "python",
   "nbconvert_exporter": "python",
   "pygments_lexer": "ipython3",
   "version": "3.13.5"
  }
 },
 "nbformat": 4,
 "nbformat_minor": 5
}
