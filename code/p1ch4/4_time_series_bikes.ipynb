{
 "cells": [
  {
   "cell_type": "code",
   "execution_count": 1,
   "id": "9cdfde5d",
   "metadata": {},
   "outputs": [],
   "source": [
    "import numpy as np\n",
    "import torch\n",
    "\n",
    "# PyTorchテンソルの出力表示を見やすく設定\n",
    "torch.set_printoptions(\n",
    "    edgeitems=2,  # 各次元の先頭・末尾2個の要素だけ表示（中間は \"...\" で省略）\n",
    "    threshold=50,  # 要素数がこれを超えると省略表示になる\n",
    "    linewidth=75,  # 1行の最大表示幅。これを超えると自動改行される\n",
    ")"
   ]
  },
  {
   "cell_type": "code",
   "execution_count": null,
   "id": "8c7ee389",
   "metadata": {},
   "outputs": [
    {
     "data": {
      "text/plain": [
       "tensor([[1.0000e+00, 1.0000e+00,  ..., 1.3000e+01, 1.6000e+01],\n",
       "        [2.0000e+00, 1.0000e+00,  ..., 3.2000e+01, 4.0000e+01],\n",
       "        ...,\n",
       "        [1.7378e+04, 3.1000e+01,  ..., 4.8000e+01, 6.1000e+01],\n",
       "        [1.7379e+04, 3.1000e+01,  ..., 3.7000e+01, 4.9000e+01]])"
      ]
     },
     "execution_count": 4,
     "metadata": {},
     "output_type": "execute_result"
    }
   ],
   "source": [
    "# CSVファイルからバイクシェアデータ（時間単位）を読み込み\n",
    "bikes_numpy = np.loadtxt(\n",
    "    \"../../data/p1ch4/bike-sharing-dataset/hour-fixed.csv\",\n",
    "    dtype=np.float32,  # 全データを float32 型として読み込む\n",
    "    delimiter=\",\",  # カンマ区切りのCSVファイル\n",
    "    skiprows=1,  # ヘッダー行をスキップ\n",
    "    converters={\n",
    "        1: lambda x: float(x[8:10])  # <1> 2列目（index=1）を \"日付から日だけ抽出\"\n",
    "        # 例: \"2011-01-01\" → x[8:10] → \"01\" → float → 1.0\n",
    "    },\n",
    ")\n",
    "\n",
    "# NumPy配列からPyTorchテンソルへ変換\n",
    "bikes = torch.from_numpy(bikes_numpy)\n",
    "\n",
    "# 結果を表示（テンソルの形状や内容の確認）\n",
    "bikes"
   ]
  },
  {
   "cell_type": "code",
   "execution_count": 5,
   "id": "663f7888",
   "metadata": {},
   "outputs": [
    {
     "data": {
      "text/plain": [
       "(torch.Size([17520, 17]), (17, 1))"
      ]
     },
     "execution_count": 5,
     "metadata": {},
     "output_type": "execute_result"
    }
   ],
   "source": [
    "bikes.shape, bikes.stride()"
   ]
  },
  {
   "cell_type": "code",
   "execution_count": 6,
   "id": "0b25a23f",
   "metadata": {},
   "outputs": [
    {
     "data": {
      "text/plain": [
       "(torch.Size([730, 24, 17]), (408, 17, 1))"
      ]
     },
     "execution_count": 6,
     "metadata": {},
     "output_type": "execute_result"
    }
   ],
   "source": [
    "# bikes: shape = [17520, 17]（17520時間分、各時点17特徴量）\n",
    "\n",
    "# 1日24時間ごとに区切って reshape（view）→ [日数, 24時間, 特徴量]\n",
    "daily_bikes = bikes.view(-1, 24, bikes.shape[1])\n",
    "\n",
    "# 結果の形状とストライドを確認\n",
    "daily_bikes.shape, daily_bikes.stride()"
   ]
  },
  {
   "cell_type": "code",
   "execution_count": 7,
   "id": "d78a3558",
   "metadata": {},
   "outputs": [
    {
     "data": {
      "text/plain": [
       "(torch.Size([730, 17, 24]), (408, 1, 17))"
      ]
     },
     "execution_count": 7,
     "metadata": {},
     "output_type": "execute_result"
    }
   ],
   "source": [
    "# daily_bikes: shape = (730, 17, 24)\n",
    "# これは [日数, 特徴量数, 時間数] の構造で、各日について各特徴量の時間変化を表している\n",
    "\n",
    "# transpose(1, 2) により、特徴量軸（1）と時間軸（2）を入れ替える\n",
    "# 結果：shape = (730, 24, 17) となり、\n",
    "# 各日について「時間ごとの特徴量ベクトル」が並ぶ構造に変わる\n",
    "# これは例えば RNN で時間ごとの入力を処理したい場合などに便利な形\n",
    "daily_bikes = daily_bikes.transpose(1, 2)\n",
    "\n",
    "daily_bikes.shape, daily_bikes.stride()"
   ]
  },
  {
   "cell_type": "code",
   "execution_count": null,
   "id": "e9e20ea9",
   "metadata": {},
   "outputs": [],
   "source": []
  }
 ],
 "metadata": {
  "kernelspec": {
   "display_name": "Python (pytorch-env)",
   "language": "python",
   "name": "pytorch-env"
  },
  "language_info": {
   "codemirror_mode": {
    "name": "ipython",
    "version": 3
   },
   "file_extension": ".py",
   "mimetype": "text/x-python",
   "name": "python",
   "nbconvert_exporter": "python",
   "pygments_lexer": "ipython3",
   "version": "3.13.5"
  }
 },
 "nbformat": 4,
 "nbformat_minor": 5
}
