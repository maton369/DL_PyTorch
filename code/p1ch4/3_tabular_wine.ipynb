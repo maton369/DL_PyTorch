{
 "cells": [
  {
   "cell_type": "code",
   "execution_count": 2,
   "id": "7b86f685",
   "metadata": {},
   "outputs": [],
   "source": [
    "import numpy as np\n",
    "import torch\n",
    "\n",
    "# PyTorch テンソルの表示オプションを設定することで、\n",
    "# print 時の視認性と簡潔さを向上させる\n",
    "\n",
    "torch.set_printoptions(\n",
    "    edgeitems=2,  # 各次元の先頭と末尾の要素数（中間は \"...\" で省略）\n",
    "    precision=2,  # 浮動小数点数の小数点以下の桁数（例: 0.123456 → 0.12）\n",
    "    linewidth=75,  # 1行あたりの最大表示幅（長すぎる行は改行される）\n",
    ")"
   ]
  },
  {
   "cell_type": "code",
   "execution_count": 3,
   "id": "e4bb60df",
   "metadata": {},
   "outputs": [
    {
     "data": {
      "text/plain": [
       "array([[ 7.  ,  0.27,  0.36, ...,  0.45,  8.8 ,  6.  ],\n",
       "       [ 6.3 ,  0.3 ,  0.34, ...,  0.49,  9.5 ,  6.  ],\n",
       "       [ 8.1 ,  0.28,  0.4 , ...,  0.44, 10.1 ,  6.  ],\n",
       "       ...,\n",
       "       [ 6.5 ,  0.24,  0.19, ...,  0.46,  9.4 ,  6.  ],\n",
       "       [ 5.5 ,  0.29,  0.3 , ...,  0.38, 12.8 ,  7.  ],\n",
       "       [ 6.  ,  0.21,  0.38, ...,  0.32, 11.8 ,  6.  ]],\n",
       "      shape=(4898, 12), dtype=float32)"
      ]
     },
     "execution_count": 3,
     "metadata": {},
     "output_type": "execute_result"
    }
   ],
   "source": [
    "import csv\n",
    "import numpy as np\n",
    "\n",
    "# ワイン品質データセット（白ワイン）のCSVファイルのパス\n",
    "wine_path = \"../../data/p1ch4/tabular-wine/winequality-white.csv\"\n",
    "\n",
    "# CSVファイルをNumPy配列として読み込む\n",
    "# - dtype=np.float32: すべての値をfloat32型として読み込む\n",
    "# - delimiter=\";\": 区切り文字はセミコロン（このCSVはExcel形式）\n",
    "# - skiprows=1: ヘッダー行（列名）をスキップ\n",
    "wineq_numpy = np.loadtxt(wine_path, dtype=np.float32, delimiter=\";\", skiprows=1)\n",
    "\n",
    "# 読み込んだデータを表示（shapeや内容を確認）\n",
    "wineq_numpy"
   ]
  },
  {
   "cell_type": "code",
   "execution_count": 4,
   "id": "c951a419",
   "metadata": {},
   "outputs": [
    {
     "data": {
      "text/plain": [
       "((4898, 12),\n",
       " ['fixed acidity',\n",
       "  'volatile acidity',\n",
       "  'citric acid',\n",
       "  'residual sugar',\n",
       "  'chlorides',\n",
       "  'free sulfur dioxide',\n",
       "  'total sulfur dioxide',\n",
       "  'density',\n",
       "  'pH',\n",
       "  'sulphates',\n",
       "  'alcohol',\n",
       "  'quality'])"
      ]
     },
     "execution_count": 4,
     "metadata": {},
     "output_type": "execute_result"
    }
   ],
   "source": [
    "# csv.reader でファイルを開き、最初の行（=列名の行）だけを取得\n",
    "col_list = next(csv.reader(open(wine_path), delimiter=\";\"))\n",
    "\n",
    "# データ本体はすでに NumPy 配列として読み込まれていると仮定\n",
    "# wineq_numpy = np.loadtxt(...)\n",
    "\n",
    "# データの形状と列名一覧を確認\n",
    "wineq_numpy.shape, col_list"
   ]
  },
  {
   "cell_type": "code",
   "execution_count": 5,
   "id": "5e91ec52",
   "metadata": {},
   "outputs": [
    {
     "data": {
      "text/plain": [
       "(torch.Size([4898, 12]), torch.float32)"
      ]
     },
     "execution_count": 5,
     "metadata": {},
     "output_type": "execute_result"
    }
   ],
   "source": [
    "wineq = torch.from_numpy(wineq_numpy)\n",
    "\n",
    "wineq.shape, wineq.dtype"
   ]
  },
  {
   "cell_type": "code",
   "execution_count": 6,
   "id": "5049833b",
   "metadata": {},
   "outputs": [
    {
     "data": {
      "text/plain": [
       "(tensor([[ 7.00,  0.27,  ...,  0.45,  8.80],\n",
       "         [ 6.30,  0.30,  ...,  0.49,  9.50],\n",
       "         ...,\n",
       "         [ 5.50,  0.29,  ...,  0.38, 12.80],\n",
       "         [ 6.00,  0.21,  ...,  0.32, 11.80]]),\n",
       " torch.Size([4898, 11]))"
      ]
     },
     "execution_count": 6,
     "metadata": {},
     "output_type": "execute_result"
    }
   ],
   "source": [
    "data = wineq[:, :-1]\n",
    "data, data.shape"
   ]
  },
  {
   "cell_type": "code",
   "execution_count": 7,
   "id": "866ad46e",
   "metadata": {},
   "outputs": [
    {
     "data": {
      "text/plain": [
       "(tensor([6., 6.,  ..., 7., 6.]), torch.Size([4898]))"
      ]
     },
     "execution_count": 7,
     "metadata": {},
     "output_type": "execute_result"
    }
   ],
   "source": [
    "target = wineq[:, -1]\n",
    "target, target.shape"
   ]
  },
  {
   "cell_type": "code",
   "execution_count": 8,
   "id": "b62657c2",
   "metadata": {},
   "outputs": [
    {
     "data": {
      "text/plain": [
       "tensor([6, 6,  ..., 7, 6])"
      ]
     },
     "execution_count": 8,
     "metadata": {},
     "output_type": "execute_result"
    }
   ],
   "source": [
    "target = wineq[:, -1].long()\n",
    "target"
   ]
  },
  {
   "cell_type": "code",
   "execution_count": 9,
   "id": "170e8878",
   "metadata": {},
   "outputs": [
    {
     "data": {
      "text/plain": [
       "tensor([[0., 0.,  ..., 0., 0.],\n",
       "        [0., 0.,  ..., 0., 0.],\n",
       "        ...,\n",
       "        [0., 0.,  ..., 0., 0.],\n",
       "        [0., 0.,  ..., 0., 0.]])"
      ]
     },
     "execution_count": 9,
     "metadata": {},
     "output_type": "execute_result"
    }
   ],
   "source": [
    "# 例: target = tensor([3, 1, 4, 0, ...]) のような整数クラスラベル（0〜9）\n",
    "\n",
    "# ワンホット形式を格納するテンソルを初期化（全ゼロ）\n",
    "# shape: [サンプル数, クラス数] → 10クラス分類タスクを想定\n",
    "target_onehot = torch.zeros(target.shape[0], 10)\n",
    "\n",
    "# target.unsqueeze(1) によって shape を [N, 1] に拡張し、\n",
    "# scatter_ により 1.0 を指定インデックスに代入（in-place操作）\n",
    "target_onehot.scatter_(1, target.unsqueeze(1), 1.0)"
   ]
  },
  {
   "cell_type": "code",
   "execution_count": 10,
   "id": "d313c24f",
   "metadata": {},
   "outputs": [
    {
     "data": {
      "text/plain": [
       "tensor([[6],\n",
       "        [6],\n",
       "        ...,\n",
       "        [7],\n",
       "        [6]])"
      ]
     },
     "execution_count": 10,
     "metadata": {},
     "output_type": "execute_result"
    }
   ],
   "source": [
    "# 例: target = tensor([2, 0, 4]) のような shape: [N]（1次元ベクトル）を仮定\n",
    "\n",
    "# 次元1（列方向）に1次元を追加し、shape を [N, 1] にする\n",
    "# これは scatter_ や loss 計算（CrossEntropyLossなど）で必要になる形式\n",
    "target_unsqueezed = target.unsqueeze(1)\n",
    "\n",
    "# 確認\n",
    "target_unsqueezed"
   ]
  },
  {
   "cell_type": "code",
   "execution_count": 12,
   "id": "24764625",
   "metadata": {},
   "outputs": [
    {
     "data": {
      "text/plain": [
       "tensor([6.85e+00, 2.78e-01, 3.34e-01, 6.39e+00, 4.58e-02, 3.53e+01,\n",
       "        1.38e+02, 9.94e-01, 3.19e+00, 4.90e-01, 1.05e+01])"
      ]
     },
     "execution_count": 12,
     "metadata": {},
     "output_type": "execute_result"
    }
   ],
   "source": [
    "# data: shape = [N, D] （N個のデータサンプル、D個の特徴量）\n",
    "\n",
    "# 各特徴量（列）ごとに平均値を計算 → shape: [D]\n",
    "# dim=0 は「行方向に沿って」集約（= 各列ごと）\n",
    "data_mean = torch.mean(data, dim=0)\n",
    "\n",
    "# 計算結果の確認\n",
    "data_mean"
   ]
  },
  {
   "cell_type": "code",
   "execution_count": 14,
   "id": "49fcbaeb",
   "metadata": {},
   "outputs": [
    {
     "data": {
      "text/plain": [
       "tensor([7.12e-01, 1.02e-02, 1.46e-02, 2.57e+01, 4.77e-04, 2.89e+02,\n",
       "        1.81e+03, 8.95e-06, 2.28e-02, 1.30e-02, 1.51e+00])"
      ]
     },
     "execution_count": 14,
     "metadata": {},
     "output_type": "execute_result"
    }
   ],
   "source": [
    "data_var = torch.var(data, dim=0)\n",
    "data_var"
   ]
  },
  {
   "cell_type": "code",
   "execution_count": 15,
   "id": "a26b8e25",
   "metadata": {},
   "outputs": [
    {
     "data": {
      "text/plain": [
       "tensor([[ 1.72e-01, -8.18e-02,  ..., -3.49e-01, -1.39e+00],\n",
       "        [-6.57e-01,  2.16e-01,  ...,  1.34e-03, -8.24e-01],\n",
       "        ...,\n",
       "        [-1.61e+00,  1.17e-01,  ..., -9.63e-01,  1.86e+00],\n",
       "        [-1.01e+00, -6.77e-01,  ..., -1.49e+00,  1.04e+00]])"
      ]
     },
     "execution_count": 15,
     "metadata": {},
     "output_type": "execute_result"
    }
   ],
   "source": [
    "data_normalized = (data - data_mean) / torch.sqrt(data_var)\n",
    "data_normalized"
   ]
  },
  {
   "cell_type": "code",
   "execution_count": null,
   "id": "01b62757",
   "metadata": {},
   "outputs": [
    {
     "data": {
      "text/plain": [
       "(torch.Size([4898]), torch.bool, tensor(20))"
      ]
     },
     "execution_count": 16,
     "metadata": {},
     "output_type": "execute_result"
    }
   ],
   "source": [
    "# target: shape = [N] の整数ラベルテンソル（例：0〜9のクラスラベル）\n",
    "\n",
    "# 条件：クラスラベルが3以下の要素をTrueとするブールマスクを作成\n",
    "bad_indexes = target <= 3\n",
    "\n",
    "# 各種情報を確認\n",
    "bad_indexes.shape  # 元の target と同じ shape → (N,)\n",
    "bad_indexes.dtype  # torch.bool（真偽値マスク）\n",
    "bad_indexes.sum()  # 条件に合致する要素の個数（Trueの数）を整数で返す"
   ]
  },
  {
   "cell_type": "code",
   "execution_count": 17,
   "id": "1b57f05e",
   "metadata": {},
   "outputs": [
    {
     "data": {
      "text/plain": [
       "torch.Size([20, 11])"
      ]
     },
     "execution_count": 17,
     "metadata": {},
     "output_type": "execute_result"
    }
   ],
   "source": [
    "# bad_indexes: shape = [N] の torch.bool 型テンソル（例：target <= 3 の結果）\n",
    "# data: shape = [N, D] の特徴量テンソル（Nサンプル、D特徴量）\n",
    "\n",
    "# 条件に合致する行（bad_indexes が True の行）だけを抽出\n",
    "bad_data = data[bad_indexes]\n",
    "\n",
    "# 抽出後の shape を確認\n",
    "bad_data.shape  # → (n_bad, D)"
   ]
  },
  {
   "cell_type": "code",
   "execution_count": 18,
   "id": "04fb0d40",
   "metadata": {},
   "outputs": [
    {
     "name": "stdout",
     "output_type": "stream",
     "text": [
      " 0 fixed acidity          7.60   6.89   6.73\n",
      " 1 volatile acidity       0.33   0.28   0.27\n",
      " 2 citric acid            0.34   0.34   0.33\n",
      " 3 residual sugar         6.39   6.71   5.26\n",
      " 4 chlorides              0.05   0.05   0.04\n",
      " 5 free sulfur dioxide   53.33  35.42  34.55\n",
      " 6 total sulfur dioxide 170.60 141.83 125.25\n",
      " 7 density                0.99   0.99   0.99\n",
      " 8 pH                     3.19   3.18   3.22\n",
      " 9 sulphates              0.47   0.49   0.50\n",
      "10 alcohol               10.34  10.26  11.42\n"
     ]
    }
   ],
   "source": [
    "# 条件でターゲット（品質スコア）を分類し、それぞれの特徴量の平均を求める\n",
    "\n",
    "# 品質スコアが低い（0〜3）データ\n",
    "bad_data = data[target <= 3]\n",
    "\n",
    "# 品質スコアが中間（4〜6）にあるデータ <1>\n",
    "mid_data = data[(target > 3) & (target < 7)]\n",
    "\n",
    "# 品質スコアが高い（7〜9など）データ\n",
    "good_data = data[target >= 7]\n",
    "\n",
    "# 各クラスの平均ベクトルを計算（dim=0で列方向＝各特徴量）\n",
    "bad_mean = torch.mean(bad_data, dim=0)\n",
    "mid_mean = torch.mean(mid_data, dim=0)\n",
    "good_mean = torch.mean(good_data, dim=0)\n",
    "\n",
    "# 各特徴量の名前と、bad/mid/good グループでの平均値を並べて出力\n",
    "for i, args in enumerate(zip(col_list, bad_mean, mid_mean, good_mean)):\n",
    "    print(\"{:2} {:20} {:6.2f} {:6.2f} {:6.2f}\".format(i, *args))"
   ]
  },
  {
   "cell_type": "code",
   "execution_count": 19,
   "id": "d2f9fe97",
   "metadata": {},
   "outputs": [
    {
     "data": {
      "text/plain": [
       "tensor(2727)"
      ]
     },
     "execution_count": 19,
     "metadata": {},
     "output_type": "execute_result"
    }
   ],
   "source": [
    "# しきい値を設定（特徴量 'total sulfur dioxide' の平均など）\n",
    "total_sulfur_threshold = 141.83\n",
    "\n",
    "# 7番目の特徴量（列 index = 6）は 'total sulfur dioxide' として想定\n",
    "total_sulfur_data = data[:, 6]  # shape: [N]\n",
    "\n",
    "# この特徴量がしきい値未満のサンプルを「予測が良い」と仮定\n",
    "# torch.lt = less than（要素ごとの比較） → ブールテンソルが返る\n",
    "predicted_indexes = torch.lt(total_sulfur_data, total_sulfur_threshold)\n",
    "\n",
    "# 出力の確認\n",
    "predicted_indexes.shape  # → (N,) 元データと同じ行数\n",
    "predicted_indexes.dtype  # → torch.bool\n",
    "predicted_indexes.sum()  # → True の数（しきい値を下回ったサンプル数）"
   ]
  },
  {
   "cell_type": "code",
   "execution_count": 20,
   "id": "f90f304d",
   "metadata": {},
   "outputs": [
    {
     "data": {
      "text/plain": [
       "tensor(3258)"
      ]
     },
     "execution_count": 20,
     "metadata": {},
     "output_type": "execute_result"
    }
   ],
   "source": [
    "# target: ワインの品質スコア（整数ラベル）を含むテンソル [N]\n",
    "\n",
    "# 実際に「良いワイン」とみなす条件（スコアが6より大きい）\n",
    "actual_indexes = target > 5\n",
    "\n",
    "# 出力情報の確認\n",
    "actual_indexes.shape  # → [N] 元のデータと同じ行数\n",
    "actual_indexes.dtype  # → torch.bool\n",
    "actual_indexes.sum()  # → Trueの個数（= 実際に良いワインの数）"
   ]
  },
  {
   "cell_type": "code",
   "execution_count": 21,
   "id": "c7d9cf82",
   "metadata": {},
   "outputs": [
    {
     "data": {
      "text/plain": [
       "(2018, 0.74000733406674, 0.6193984039287906)"
      ]
     },
     "execution_count": 21,
     "metadata": {},
     "output_type": "execute_result"
    }
   ],
   "source": [
    "# predicted_indexes: モデルやしきい値による「良いワイン」と予測したサンプルのブールマスク\n",
    "# actual_indexes: 実際に品質スコア > 5 の「良いワイン」のブールマスク\n",
    "\n",
    "# 予測と実際が一致しているサンプル数（AND を取る）\n",
    "n_matches = torch.sum(actual_indexes & predicted_indexes).item()\n",
    "\n",
    "# 「良いワイン」と予測された総数（＝陽性予測数）\n",
    "n_predicted = torch.sum(predicted_indexes).item()\n",
    "\n",
    "# 実際の「良いワイン」の総数（＝真の陽性数 + 偽陰性数）\n",
    "n_actual = torch.sum(actual_indexes).item()\n",
    "\n",
    "# 出力：一致数、Precision（適合率）、Recall（再現率）\n",
    "n_matches, n_matches / n_predicted, n_matches / n_actual"
   ]
  }
 ],
 "metadata": {
  "kernelspec": {
   "display_name": "Python (pytorch-env)",
   "language": "python",
   "name": "pytorch-env"
  },
  "language_info": {
   "codemirror_mode": {
    "name": "ipython",
    "version": 3
   },
   "file_extension": ".py",
   "mimetype": "text/x-python",
   "name": "python",
   "nbconvert_exporter": "python",
   "pygments_lexer": "ipython3",
   "version": "3.13.5"
  }
 },
 "nbformat": 4,
 "nbformat_minor": 5
}
