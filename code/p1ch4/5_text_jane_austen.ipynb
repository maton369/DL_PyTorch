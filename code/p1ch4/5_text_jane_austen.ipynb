{
 "cells": [
  {
   "cell_type": "code",
   "execution_count": 1,
   "id": "07c39ced",
   "metadata": {},
   "outputs": [],
   "source": [
    "import numpy as np\n",
    "import torch\n",
    "\n",
    "# テンソルの表示設定：\n",
    "# ・edgeitems=2 → 各次元の両端2つずつだけ表示\n",
    "# ・threshold=50 → 要素数が50を超えると中略表示\n",
    "torch.set_printoptions(edgeitems=2, threshold=50)"
   ]
  },
  {
   "cell_type": "code",
   "execution_count": 2,
   "id": "5daef1bb",
   "metadata": {},
   "outputs": [],
   "source": [
    "with open(\"../../data/p1ch4/jane-austen/1342-0.txt\", encoding=\"utf8\") as f:\n",
    "    text = f.read()"
   ]
  },
  {
   "cell_type": "code",
   "execution_count": 3,
   "id": "45093ffd",
   "metadata": {},
   "outputs": [
    {
     "data": {
      "text/plain": [
       "'“Impossible, Mr. Bennet, impossible, when I am not acquainted with him'"
      ]
     },
     "execution_count": 3,
     "metadata": {},
     "output_type": "execute_result"
    }
   ],
   "source": [
    "lines = text.split(\"\\n\")\n",
    "line = lines[200]\n",
    "line"
   ]
  },
  {
   "cell_type": "code",
   "execution_count": 4,
   "id": "acbbee2f",
   "metadata": {},
   "outputs": [
    {
     "data": {
      "text/plain": [
       "torch.Size([70, 128])"
      ]
     },
     "execution_count": 4,
     "metadata": {},
     "output_type": "execute_result"
    }
   ],
   "source": [
    "letter_t = torch.zeros(len(line), 128)  # <1>\n",
    "letter_t.shape"
   ]
  },
  {
   "cell_type": "code",
   "execution_count": 5,
   "id": "243119cf",
   "metadata": {},
   "outputs": [],
   "source": [
    "# 文字列 line を小文字化・前後の空白除去した上で1文字ずつ処理\n",
    "for i, letter in enumerate(line.lower().strip()):\n",
    "\n",
    "    # ASCIIコードが128未満（標準ASCII文字）の場合はそのコードを使用、\n",
    "    # それ以外（非ASCII文字）の場合は0番目のインデックスに集約\n",
    "    letter_index = ord(letter) if ord(letter) < 128 else 0  # <1>\n",
    "\n",
    "    # i番目の位置に対応するone-hotベクトルを構築（該当インデックスに1を立てる）\n",
    "    letter_t[i][letter_index] = 1"
   ]
  },
  {
   "cell_type": "code",
   "execution_count": 6,
   "id": "dcd9f986",
   "metadata": {},
   "outputs": [
    {
     "data": {
      "text/plain": [
       "('“Impossible, Mr. Bennet, impossible, when I am not acquainted with him',\n",
       " ['impossible',\n",
       "  'mr',\n",
       "  'bennet',\n",
       "  'impossible',\n",
       "  'when',\n",
       "  'i',\n",
       "  'am',\n",
       "  'not',\n",
       "  'acquainted',\n",
       "  'with',\n",
       "  'him'])"
      ]
     },
     "execution_count": 6,
     "metadata": {},
     "output_type": "execute_result"
    }
   ],
   "source": [
    "def clean_words(input_str):\n",
    "    # 削除対象の句読点記号を定義\n",
    "    punctuation = '.,;:\"!?”“_-'\n",
    "\n",
    "    # 入力文字列を小文字化し、改行をスペースに変換し、空白で分割して単語リスト化\n",
    "    word_list = input_str.lower().replace(\"\\n\", \" \").split()\n",
    "\n",
    "    # 各単語から先頭・末尾の句読点を除去\n",
    "    word_list = [word.strip(punctuation) for word in word_list]\n",
    "\n",
    "    return word_list\n",
    "\n",
    "\n",
    "# 1行のテキスト line に対して単語クリーニングを実施\n",
    "words_in_line = clean_words(line)\n",
    "\n",
    "# 元の行とクリーニング済み単語リストを確認\n",
    "line, words_in_line"
   ]
  },
  {
   "cell_type": "code",
   "execution_count": 7,
   "id": "ba1951ed",
   "metadata": {},
   "outputs": [
    {
     "data": {
      "text/plain": [
       "(7261, 3394)"
      ]
     },
     "execution_count": 7,
     "metadata": {},
     "output_type": "execute_result"
    }
   ],
   "source": [
    "# 入力テキストから単語を抽出・前処理し、重複を除去してソート\n",
    "word_list = sorted(set(clean_words(text)))\n",
    "\n",
    "# 単語リストから辞書を作成：{単語: インデックス}\n",
    "word2index_dict = {word: i for (i, word) in enumerate(word_list)}\n",
    "\n",
    "# 単語辞書の語彙数と、\"impossible\" のインデックスを確認\n",
    "len(word2index_dict), word2index_dict[\"impossible\"]"
   ]
  },
  {
   "cell_type": "code",
   "execution_count": 8,
   "id": "0651a8a1",
   "metadata": {},
   "outputs": [
    {
     "name": "stdout",
     "output_type": "stream",
     "text": [
      " 0 3394 impossible\n",
      " 1 4305 mr\n",
      " 2  813 bennet\n",
      " 3 3394 impossible\n",
      " 4 7078 when\n",
      " 5 3315 i\n",
      " 6  415 am\n",
      " 7 4436 not\n",
      " 8  239 acquainted\n",
      " 9 7148 with\n",
      "10 3215 him\n",
      "torch.Size([11, 7261])\n"
     ]
    }
   ],
   "source": [
    "# 各単語に対応するone-hotベクトルを格納するテンソルを初期化\n",
    "# 行：文中の単語数、列：語彙数（ボキャブラリサイズ）\n",
    "word_t = torch.zeros(len(words_in_line), len(word2index_dict))\n",
    "\n",
    "# 文中の各単語に対して one-hot ベクトルを生成\n",
    "for i, word in enumerate(words_in_line):\n",
    "    word_index = word2index_dict[word]  # 対応する語彙インデックスを取得\n",
    "    word_t[i][word_index] = 1  # one-hotベクトルの該当インデックスに1を立てる\n",
    "    print(\"{:2} {:4} {}\".format(i, word_index, word))  # デバッグ用に表示\n",
    "\n",
    "# 最終的なone-hotテンソルのサイズを確認\n",
    "print(word_t.shape)"
   ]
  },
  {
   "cell_type": "code",
   "execution_count": null,
   "id": "759347c6",
   "metadata": {},
   "outputs": [],
   "source": []
  }
 ],
 "metadata": {
  "kernelspec": {
   "display_name": "Python (pytorch-env)",
   "language": "python",
   "name": "pytorch-env"
  },
  "language_info": {
   "codemirror_mode": {
    "name": "ipython",
    "version": 3
   },
   "file_extension": ".py",
   "mimetype": "text/x-python",
   "name": "python",
   "nbconvert_exporter": "python",
   "pygments_lexer": "ipython3",
   "version": "3.13.5"
  }
 },
 "nbformat": 4,
 "nbformat_minor": 5
}
