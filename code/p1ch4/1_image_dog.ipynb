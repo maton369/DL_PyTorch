{
 "cells": [
  {
   "cell_type": "code",
   "execution_count": 2,
   "id": "51715c43",
   "metadata": {},
   "outputs": [],
   "source": [
    "import numpy as np\n",
    "import torch\n",
    "\n",
    "# PyTorchテンソルのprint表示設定を変更\n",
    "# edgeitems: 各次元の先頭・末尾に表示する要素数（中間は \"...\" で省略される）\n",
    "# threshold: 表示の総要素数がこれを超えると省略表示になる（全体で50要素以下ならすべて表示）\n",
    "torch.set_printoptions(edgeitems=2, threshold=50)"
   ]
  },
  {
   "cell_type": "code",
   "execution_count": 5,
   "id": "ff3a12c7",
   "metadata": {},
   "outputs": [
    {
     "name": "stderr",
     "output_type": "stream",
     "text": [
      "/var/folders/0t/6d51btm11zz6lw61fgrmf7z00000gn/T/ipykernel_87508/2817573562.py:3: DeprecationWarning: Starting with ImageIO v3 the behavior of this function will switch to that of iio.v3.imread. To keep the current behavior (and make this warning disappear) use `import imageio.v2 as imageio` or call `imageio.v2.imread` directly.\n",
      "  img_arr = imageio.imread(\"../../data/p1ch4/image-dog/bobby.jpg\")\n"
     ]
    },
    {
     "data": {
      "text/plain": [
       "(720, 1280, 3)"
      ]
     },
     "execution_count": 5,
     "metadata": {},
     "output_type": "execute_result"
    }
   ],
   "source": [
    "import imageio\n",
    "\n",
    "img_arr = imageio.imread(\"../../data/p1ch4/image-dog/bobby.jpg\")\n",
    "\n",
    "img_arr.shape"
   ]
  },
  {
   "cell_type": "code",
   "execution_count": 6,
   "id": "d1f56020",
   "metadata": {},
   "outputs": [],
   "source": [
    "# NumPy配列（H, W, C）をPyTorchテンソル（C, H, W）に変換する処理\n",
    "\n",
    "# NumPy配列をPyTorchテンソルに変換（共有メモリ、コピーはされない）\n",
    "img = torch.from_numpy(img_arr)  # img_arr: shape = (高さ, 幅, チャンネル)\n",
    "\n",
    "# 次元を並び替えて、PyTorchの標準形式である (C, H, W) に変換\n",
    "out = img.permute(2, 0, 1)  # 元の (H, W, C) → (C, H, W)"
   ]
  },
  {
   "cell_type": "code",
   "execution_count": 7,
   "id": "428e5d0f",
   "metadata": {},
   "outputs": [],
   "source": [
    "# バッチサイズ3、RGB画像（3チャネル）、サイズ256x256の空バッチを作成\n",
    "# dtype=torch.uint8 は画像のピクセル値（0〜255）を格納する形式に適している\n",
    "\n",
    "batch_size = 3\n",
    "batch = torch.zeros(batch_size, 3, 256, 256, dtype=torch.uint8)\n",
    "# shape: [3, 3, 256, 256] → 3枚の画像、各画像は [C, H, W] = [3, 256, 256]"
   ]
  },
  {
   "cell_type": "code",
   "execution_count": 8,
   "id": "29d841b8",
   "metadata": {},
   "outputs": [
    {
     "name": "stderr",
     "output_type": "stream",
     "text": [
      "/var/folders/0t/6d51btm11zz6lw61fgrmf7z00000gn/T/ipykernel_87508/944037454.py:19: DeprecationWarning: Starting with ImageIO v3 the behavior of this function will switch to that of iio.v3.imread. To keep the current behavior (and make this warning disappear) use `import imageio.v2 as imageio` or call `imageio.v2.imread` directly.\n",
      "  img_arr = imageio.imread(os.path.join(data_dir, filename))\n"
     ]
    }
   ],
   "source": [
    "import os\n",
    "import imageio\n",
    "import torch\n",
    "\n",
    "# データディレクトリ（画像ファイルが保存されているフォルダ）\n",
    "data_dir = \"../../data/p1ch4/image-cats/\"\n",
    "\n",
    "# ディレクトリ内のPNG画像ファイル名だけを抽出\n",
    "filenames = [\n",
    "    name for name in os.listdir(data_dir) if os.path.splitext(name)[-1] == \".png\"\n",
    "]\n",
    "\n",
    "# ファイル数に応じてバッチテンソルを初期化（ここでは事前に batch が定義済みとする）\n",
    "# 例: batch = torch.zeros(len(filenames), 3, 256, 256, dtype=torch.uint8)\n",
    "\n",
    "# 各画像を読み込み、テンソル化してバッチに格納\n",
    "for i, filename in enumerate(filenames):\n",
    "    # 画像ファイルを読み込み → NumPy配列 (H, W, C) 型\n",
    "    img_arr = imageio.imread(os.path.join(data_dir, filename))\n",
    "\n",
    "    # NumPy配列 → PyTorchテンソルに変換（uint8型のまま）\n",
    "    img_t = torch.from_numpy(img_arr)\n",
    "\n",
    "    # 次元順を変更：（H, W, C）→（C, H, W）に並べ替え\n",
    "    img_t = img_t.permute(2, 0, 1)\n",
    "\n",
    "    # 万が一アルファチャンネルがある場合は、RGBの3チャンネルだけに制限 <1>\n",
    "    img_t = img_t[:3]\n",
    "\n",
    "    # バッチテンソルにコピー（i番目の画像を格納）\n",
    "    batch[i] = img_t"
   ]
  },
  {
   "cell_type": "code",
   "execution_count": 9,
   "id": "38a6c01a",
   "metadata": {},
   "outputs": [],
   "source": [
    "batch = batch.float()\n",
    "batch /= 255.0"
   ]
  },
  {
   "cell_type": "code",
   "execution_count": 10,
   "id": "e3e83093",
   "metadata": {},
   "outputs": [],
   "source": [
    "n_channels = batch.shape[1]\n",
    "for c in range(n_channels):\n",
    "    mean = torch.mean(batch[:, c])\n",
    "    std = torch.std(batch[:, c])\n",
    "    batch[:, c] = (batch[:, c] - mean) / std"
   ]
  }
 ],
 "metadata": {
  "kernelspec": {
   "display_name": "Python (pytorch-env)",
   "language": "python",
   "name": "pytorch-env"
  },
  "language_info": {
   "codemirror_mode": {
    "name": "ipython",
    "version": 3
   },
   "file_extension": ".py",
   "mimetype": "text/x-python",
   "name": "python",
   "nbconvert_exporter": "python",
   "pygments_lexer": "ipython3",
   "version": "3.13.5"
  }
 },
 "nbformat": 4,
 "nbformat_minor": 5
}
