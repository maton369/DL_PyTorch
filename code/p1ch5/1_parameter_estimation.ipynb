{
 "cells": [
  {
   "cell_type": "code",
   "execution_count": 2,
   "id": "603327b2",
   "metadata": {},
   "outputs": [],
   "source": [
    "%matplotlib inline\n",
    "import numpy as np\n",
    "import torch\n",
    "torch.set_printoptions(edgeitems=2, linewidth=75)"
   ]
  },
  {
   "cell_type": "code",
   "execution_count": 3,
   "id": "e583bff5",
   "metadata": {},
   "outputs": [],
   "source": [
    "t_c = [0.5, 14.0, 15.0, 28.0, 11.0, 8.0, 3.0, -4.0, 6.0, 13.0, 21.0]\n",
    "t_u = [35.7, 55.9, 58.2, 81.9, 56.3, 48.9, 33.9, 21.8, 48.4, 60.4, 68.4]\n",
    "t_c = torch.tensor(t_c)\n",
    "t_u = torch.tensor(t_u)"
   ]
  },
  {
   "cell_type": "code",
   "execution_count": 4,
   "id": "1a98f817",
   "metadata": {},
   "outputs": [],
   "source": [
    "def model(t_u, w, b):\n",
    "    return w * t_u + b"
   ]
  },
  {
   "cell_type": "code",
   "execution_count": 5,
   "id": "53061548",
   "metadata": {},
   "outputs": [],
   "source": [
    "def loss_fn(t_p, t_c):\n",
    "    squared_diffs = (t_p - t_c) ** 2\n",
    "    return squared_diffs.mean()"
   ]
  },
  {
   "cell_type": "code",
   "execution_count": 6,
   "id": "2920e593",
   "metadata": {},
   "outputs": [
    {
     "data": {
      "text/plain": [
       "tensor([35.7000, 55.9000, 58.2000, 81.9000, 56.3000, 48.9000, 33.9000,\n",
       "        21.8000, 48.4000, 60.4000, 68.4000])"
      ]
     },
     "execution_count": 6,
     "metadata": {},
     "output_type": "execute_result"
    }
   ],
   "source": [
    "w = torch.ones(())\n",
    "b = torch.zeros(())\n",
    "\n",
    "t_p = model(t_u, w, b)\n",
    "t_p"
   ]
  },
  {
   "cell_type": "code",
   "execution_count": 7,
   "id": "ec6a1a46",
   "metadata": {},
   "outputs": [
    {
     "data": {
      "text/plain": [
       "tensor(1763.8846)"
      ]
     },
     "execution_count": 7,
     "metadata": {},
     "output_type": "execute_result"
    }
   ],
   "source": [
    "loss = loss_fn(t_p, t_c)\n",
    "loss"
   ]
  },
  {
   "cell_type": "code",
   "execution_count": 8,
   "id": "cc4dcf1d",
   "metadata": {},
   "outputs": [
    {
     "name": "stdout",
     "output_type": "stream",
     "text": [
      "shapes: x: torch.Size([]), y: torch.Size([3, 1])\n",
      "        z: torch.Size([1, 3]), a: torch.Size([2, 1, 1])\n",
      "x * y: torch.Size([3, 1])\n",
      "y * z: torch.Size([3, 3])\n",
      "y * z * a: torch.Size([2, 3, 3])\n"
     ]
    }
   ],
   "source": [
    "x = torch.ones(())\n",
    "y = torch.ones(3, 1)\n",
    "z = torch.ones(1, 3)\n",
    "a = torch.ones(2, 1, 1)\n",
    "print(f\"shapes: x: {x.shape}, y: {y.shape}\")\n",
    "print(f\"        z: {z.shape}, a: {a.shape}\")\n",
    "print(\"x * y:\", (x * y).shape)\n",
    "print(\"y * z:\", (y * z).shape)\n",
    "print(\"y * z * a:\", (y * z * a).shape)"
   ]
  },
  {
   "cell_type": "code",
   "execution_count": 9,
   "id": "a4123c6d",
   "metadata": {},
   "outputs": [],
   "source": [
    "delta = 0.1\n",
    "\n",
    "# 重み w に関する損失関数の勾配を有限差分法（中心差分）で数値的に近似\n",
    "loss_rate_of_change_w = (\n",
    "    loss_fn(model(t_u, w + delta, b), t_c) - loss_fn(model(t_u, w - delta, b), t_c)\n",
    ") / (2.0 * delta)"
   ]
  },
  {
   "cell_type": "code",
   "execution_count": 10,
   "id": "57cb558f",
   "metadata": {},
   "outputs": [],
   "source": [
    "learning_rate = 1e-2\n",
    "\n",
    "# 数値微分で得られた勾配に基づき、重み w を勾配降下法で更新\n",
    "w = w - learning_rate * loss_rate_of_change_w"
   ]
  },
  {
   "cell_type": "code",
   "execution_count": 11,
   "id": "a85e837d",
   "metadata": {},
   "outputs": [],
   "source": [
    "# バイアス b に関する損失の勾配を有限差分で近似\n",
    "loss_rate_of_change_b = (\n",
    "    loss_fn(model(t_u, w, b + delta), t_c) - loss_fn(model(t_u, w, b - delta), t_c)\n",
    ") / (2.0 * delta)\n",
    "\n",
    "# 勾配に基づいてバイアス b を勾配降下法で更新\n",
    "b = b - learning_rate * loss_rate_of_change_b"
   ]
  },
  {
   "cell_type": "code",
   "execution_count": 12,
   "id": "01e3d70d",
   "metadata": {},
   "outputs": [],
   "source": [
    "def dloss_fn(t_p, t_c):\n",
    "    # MSE損失に対する予測値 t_p の導関数（∂L/∂t_p）を計算\n",
    "    dsq_diffs = 2 * (t_p - t_c) / t_p.size(0)\n",
    "    return dsq_diffs"
   ]
  },
  {
   "cell_type": "code",
   "execution_count": 13,
   "id": "18343521",
   "metadata": {},
   "outputs": [],
   "source": [
    "def dmodel_dw(t_u, w, b):\n",
    "    # 線形モデル y = w * t_u + b における w に関する偏微分（∂y/∂w）を返す\n",
    "    return t_u"
   ]
  },
  {
   "cell_type": "code",
   "execution_count": 14,
   "id": "68a4ceab",
   "metadata": {},
   "outputs": [],
   "source": [
    "def dmodel_db(t_u, w, b):\n",
    "    # 線形モデル y = w * t_u + b における b に関する偏微分（∂y/∂b）は常に 1\n",
    "    return 1.0"
   ]
  },
  {
   "cell_type": "code",
   "execution_count": 15,
   "id": "a7065578",
   "metadata": {},
   "outputs": [],
   "source": [
    "def grad_fn(t_u, t_c, t_p, w, b):\n",
    "    # 損失関数（MSE）の予測値に関する導関数を取得（∂L/∂t_p）\n",
    "    dloss_dtp = dloss_fn(t_p, t_c)\n",
    "\n",
    "    # 連鎖律により ∂L/∂w = ∂L/∂t_p × ∂t_p/∂w\n",
    "    dloss_dw = dloss_dtp * dmodel_dw(t_u, w, b)\n",
    "\n",
    "    # 同様に ∂L/∂b = ∂L/∂t_p × ∂t_p/∂b\n",
    "    dloss_db = dloss_dtp * dmodel_db(t_u, w, b)\n",
    "\n",
    "    # バッチ全体の勾配を合計して、wとbの勾配ベクトルとして返す\n",
    "    return torch.stack([dloss_dw.sum(), dloss_db.sum()])"
   ]
  },
  {
   "cell_type": "code",
   "execution_count": 16,
   "id": "dd9346cf",
   "metadata": {},
   "outputs": [],
   "source": [
    "def training_loop(n_epochs, learning_rate, params, t_u, t_c):\n",
    "    # エポック数に応じて学習を繰り返す\n",
    "    for epoch in range(1, n_epochs + 1):\n",
    "        w, b = params  # 現在のパラメータを展開（重みとバイアス）\n",
    "\n",
    "        # 予測値を計算：モデル出力 y_hat = w * t_u + b\n",
    "        t_p = model(t_u, w, b)  # <1>\n",
    "\n",
    "        # 平均二乗誤差に基づく損失を計算\n",
    "        loss = loss_fn(t_p, t_c)\n",
    "\n",
    "        # 損失に基づく勾配を計算（∂L/∂w, ∂L/∂b）\n",
    "        grad = grad_fn(t_u, t_c, t_p, w, b)  # <2>\n",
    "\n",
    "        # 計算された勾配の中身とその形状を出力（デバッグ用）\n",
    "        print(grad)\n",
    "        print(grad.shape)\n",
    "\n",
    "        # パラメータを勾配方向に更新（勾配降下法）\n",
    "        params = params - learning_rate * grad\n",
    "\n",
    "        # 各エポックの損失を表示\n",
    "        print(\"Epoch %d, Loss %f\" % (epoch, float(loss)))  # <3>\n",
    "\n",
    "    # 最終的に学習されたパラメータを返す\n",
    "    return params"
   ]
  },
  {
   "cell_type": "code",
   "execution_count": 17,
   "id": "ccfba2e4",
   "metadata": {},
   "outputs": [],
   "source": [
    "def training_loop(n_epochs, learning_rate, params, t_u, t_c, print_params=True):\n",
    "    # エポック数（学習反復回数）に従ってループ\n",
    "    for epoch in range(1, n_epochs + 1):\n",
    "        # パラメータ（重みとバイアス）を展開\n",
    "        w, b = params\n",
    "\n",
    "        # 順伝播により予測値を算出（モデル：y = wt_u + b）\n",
    "        t_p = model(t_u, w, b)\n",
    "\n",
    "        # 損失（MSE）を算出\n",
    "        loss = loss_fn(t_p, t_c)\n",
    "\n",
    "        # 勾配（∂Loss/∂w, ∂Loss/∂b）を計算\n",
    "        grad = grad_fn(t_u, t_c, t_p, w, b)\n",
    "\n",
    "        # パラメータの更新（勾配降下法）\n",
    "        params = params - learning_rate * grad\n",
    "\n",
    "        # 特定のエポックでのみログを出力（省略出力で可読性向上）\n",
    "        if epoch in {1, 2, 3, 10, 11, 99, 100, 4000, 5000}:  # <3>\n",
    "            print(\"Epoch %d, Loss %f\" % (epoch, float(loss)))\n",
    "            if print_params:\n",
    "                print(\"    Params:\", params)\n",
    "                print(\"    Grad:  \", grad)\n",
    "\n",
    "        # ログ出力を省略するエポックを明示\n",
    "        if epoch in {4, 12, 101}:\n",
    "            print(\"...\")\n",
    "\n",
    "        # NaNやInfが損失に出たら学習中止（数値安定性の確保）  # <3>\n",
    "        if not torch.isfinite(loss).all():\n",
    "            break\n",
    "\n",
    "    # 最終的な学習済みパラメータを返す\n",
    "    return params"
   ]
  },
  {
   "cell_type": "code",
   "execution_count": 18,
   "id": "dddd5075",
   "metadata": {},
   "outputs": [
    {
     "name": "stdout",
     "output_type": "stream",
     "text": [
      "Epoch 1, Loss 1763.884644\n",
      "    Params: tensor([-44.1730,  -0.8260])\n",
      "    Grad:   tensor([4517.2964,   82.6000])\n",
      "Epoch 2, Loss 5802484.500000\n",
      "    Params: tensor([2568.4011,   45.1637])\n",
      "    Grad:   tensor([-261257.4062,   -4598.9707])\n",
      "Epoch 3, Loss 19408033792.000000\n",
      "    Params: tensor([-148527.7344,   -2616.3931])\n",
      "    Grad:   tensor([15109614.0000,   266155.6875])\n",
      "...\n",
      "Epoch 10, Loss 90901124996059702376382357942829056.000000\n",
      "    Params: tensor([3.2144e+17, 5.6621e+15])\n",
      "    Grad:   tensor([-3.2700e+19, -5.7600e+17])\n",
      "Epoch 11, Loss inf\n",
      "    Params: tensor([-1.8590e+19, -3.2746e+17])\n",
      "    Grad:   tensor([1.8912e+21, 3.3313e+19])\n"
     ]
    },
    {
     "data": {
      "text/plain": [
       "tensor([-1.8590e+19, -3.2746e+17])"
      ]
     },
     "execution_count": 18,
     "metadata": {},
     "output_type": "execute_result"
    }
   ],
   "source": [
    "training_loop(\n",
    "    n_epochs=100, learning_rate=1e-2, params=torch.tensor([1.0, 0.0]), t_u=t_u, t_c=t_c\n",
    ")"
   ]
  },
  {
   "cell_type": "code",
   "execution_count": 19,
   "id": "c0818047",
   "metadata": {},
   "outputs": [
    {
     "name": "stdout",
     "output_type": "stream",
     "text": [
      "Epoch 1, Loss 1763.884644\n",
      "    Params: tensor([ 0.5483, -0.0083])\n",
      "    Grad:   tensor([4517.2964,   82.6000])\n",
      "Epoch 2, Loss 323.090546\n",
      "    Params: tensor([ 0.3623, -0.0118])\n",
      "    Grad:   tensor([1859.5492,   35.7843])\n",
      "Epoch 3, Loss 78.929634\n",
      "    Params: tensor([ 0.2858, -0.0135])\n",
      "    Grad:   tensor([765.4666,  16.5122])\n",
      "...\n",
      "Epoch 10, Loss 29.105247\n",
      "    Params: tensor([ 0.2324, -0.0166])\n",
      "    Grad:   tensor([1.4803, 3.0544])\n",
      "Epoch 11, Loss 29.104168\n",
      "    Params: tensor([ 0.2323, -0.0169])\n",
      "    Grad:   tensor([0.5781, 3.0384])\n",
      "...\n",
      "Epoch 99, Loss 29.023582\n",
      "    Params: tensor([ 0.2327, -0.0435])\n",
      "    Grad:   tensor([-0.0533,  3.0226])\n",
      "Epoch 100, Loss 29.022669\n",
      "    Params: tensor([ 0.2327, -0.0438])\n",
      "    Grad:   tensor([-0.0532,  3.0226])\n"
     ]
    },
    {
     "data": {
      "text/plain": [
       "tensor([ 0.2327, -0.0438])"
      ]
     },
     "execution_count": 19,
     "metadata": {},
     "output_type": "execute_result"
    }
   ],
   "source": [
    "training_loop(\n",
    "    n_epochs=100, learning_rate=1e-4, params=torch.tensor([1.0, 0.0]), t_u=t_u, t_c=t_c\n",
    ")"
   ]
  },
  {
   "cell_type": "code",
   "execution_count": null,
   "id": "c722f31e",
   "metadata": {},
   "outputs": [],
   "source": []
  }
 ],
 "metadata": {
  "kernelspec": {
   "display_name": "Python (pytorch-env)",
   "language": "python",
   "name": "pytorch-env"
  },
  "language_info": {
   "codemirror_mode": {
    "name": "ipython",
    "version": 3
   },
   "file_extension": ".py",
   "mimetype": "text/x-python",
   "name": "python",
   "nbconvert_exporter": "python",
   "pygments_lexer": "ipython3",
   "version": "3.13.5"
  }
 },
 "nbformat": 4,
 "nbformat_minor": 5
}
