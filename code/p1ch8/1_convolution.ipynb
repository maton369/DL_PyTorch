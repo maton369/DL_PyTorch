{
 "cells": [
  {
   "cell_type": "code",
   "execution_count": 1,
   "id": "dd9aaba3",
   "metadata": {},
   "outputs": [
    {
     "data": {
      "text/plain": [
       "<torch._C.Generator at 0x10f201c70>"
      ]
     },
     "execution_count": 1,
     "metadata": {},
     "output_type": "execute_result"
    }
   ],
   "source": [
    "%matplotlib inline\n",
    "from matplotlib import pyplot as plt\n",
    "import numpy as np\n",
    "import collections\n",
    "\n",
    "import torch\n",
    "import torch.nn as nn\n",
    "import torch.nn.functional as F\n",
    "import torch.optim as optim\n",
    "\n",
    "torch.set_printoptions(edgeitems=2)\n",
    "torch.manual_seed(123)"
   ]
  },
  {
   "cell_type": "code",
   "execution_count": 2,
   "id": "fe3d230e",
   "metadata": {},
   "outputs": [],
   "source": [
    "class_names = [\n",
    "    \"airplane\",\n",
    "    \"automobile\",\n",
    "    \"bird\",\n",
    "    \"cat\",\n",
    "    \"deer\",\n",
    "    \"dog\",\n",
    "    \"frog\",\n",
    "    \"horse\",\n",
    "    \"ship\",\n",
    "    \"truck\",\n",
    "]"
   ]
  },
  {
   "cell_type": "code",
   "execution_count": 5,
   "id": "bbadb65c",
   "metadata": {},
   "outputs": [],
   "source": [
    "from torchvision import datasets, transforms\n",
    "\n",
    "# すでに展開済みのCIFAR-10データの保存先を明示\n",
    "data_path = \"../data-unversioned/p1ch7\"\n",
    "\n",
    "# download=False にして、既存データを使う\n",
    "cifar10 = datasets.CIFAR10(\n",
    "    root=data_path,\n",
    "    train=True,\n",
    "    download=False,\n",
    "    transform=transforms.Compose(\n",
    "        [\n",
    "            transforms.ToTensor(),\n",
    "            transforms.Normalize((0.4915, 0.4823, 0.4468), (0.2470, 0.2435, 0.2616)),\n",
    "        ]\n",
    "    ),\n",
    ")"
   ]
  },
  {
   "cell_type": "code",
   "execution_count": 6,
   "id": "ddc844d4",
   "metadata": {},
   "outputs": [],
   "source": [
    "cifar10_val = datasets.CIFAR10(\n",
    "    data_path,\n",
    "    train=False,\n",
    "    download=True,\n",
    "    transform=transforms.Compose(\n",
    "        [\n",
    "            transforms.ToTensor(),\n",
    "            transforms.Normalize((0.4915, 0.4823, 0.4468), (0.2470, 0.2435, 0.2616)),\n",
    "        ]\n",
    "    ),\n",
    ")"
   ]
  },
  {
   "cell_type": "code",
   "execution_count": 7,
   "id": "d60a1f79",
   "metadata": {},
   "outputs": [],
   "source": [
    "label_map = {0: 0, 2: 1}\n",
    "class_names = [\"airplane\", \"bird\"]\n",
    "cifar2 = [(img, label_map[label]) for img, label in cifar10 if label in [0, 2]]\n",
    "cifar2_val = [(img, label_map[label]) for img, label in cifar10_val if label in [0, 2]]"
   ]
  },
  {
   "cell_type": "code",
   "execution_count": 8,
   "id": "0e0057fe",
   "metadata": {},
   "outputs": [],
   "source": [
    "connected_model = nn.Sequential(\n",
    "    nn.Linear(3072, 1024),\n",
    "    nn.Tanh(),\n",
    "    nn.Linear(1024, 512),\n",
    "    nn.Tanh(),\n",
    "    nn.Linear(512, 128),\n",
    "    nn.Tanh(),\n",
    "    nn.Linear(128, 2),\n",
    ")"
   ]
  },
  {
   "cell_type": "code",
   "execution_count": 9,
   "id": "f525fc9e",
   "metadata": {},
   "outputs": [
    {
     "data": {
      "text/plain": [
       "(3737474, [3145728, 1024, 524288, 512, 65536, 128, 256, 2])"
      ]
     },
     "execution_count": 9,
     "metadata": {},
     "output_type": "execute_result"
    }
   ],
   "source": [
    "numel_list = [\n",
    "    p.numel()  # 各パラメータテンソルの要素数（たとえば重み行列の総数）\n",
    "    for p in connected_model.parameters()  # 全てのパラメータをループ\n",
    "    if p.requires_grad == True  # 勾配計算対象（学習対象）パラメータのみ\n",
    "]\n",
    "\n",
    "sum(numel_list), numel_list"
   ]
  },
  {
   "cell_type": "code",
   "execution_count": 10,
   "id": "b6889db4",
   "metadata": {},
   "outputs": [],
   "source": [
    "first_model = nn.Sequential(\n",
    "    nn.Linear(3072, 512), nn.Tanh(), nn.Linear(512, 2), nn.LogSoftmax(dim=1)\n",
    ")"
   ]
  },
  {
   "cell_type": "code",
   "execution_count": 11,
   "id": "b15aafc6",
   "metadata": {},
   "outputs": [
    {
     "data": {
      "text/plain": [
       "(1574402, [1572864, 512, 1024, 2])"
      ]
     },
     "execution_count": 11,
     "metadata": {},
     "output_type": "execute_result"
    }
   ],
   "source": [
    "numel_list = [p.numel() for p in first_model.parameters()]\n",
    "sum(numel_list), numel_list"
   ]
  },
  {
   "cell_type": "code",
   "execution_count": 12,
   "id": "b887fec3",
   "metadata": {},
   "outputs": [
    {
     "data": {
      "text/plain": [
       "(torch.Size([1024, 3072]), torch.Size([1024]))"
      ]
     },
     "execution_count": 12,
     "metadata": {},
     "output_type": "execute_result"
    }
   ],
   "source": [
    "linear = nn.Linear(3072, 1024)\n",
    "\n",
    "linear.weight.shape, linear.bias.shape"
   ]
  },
  {
   "cell_type": "code",
   "execution_count": 13,
   "id": "3174115e",
   "metadata": {},
   "outputs": [
    {
     "name": "stdout",
     "output_type": "stream",
     "text": [
      "Conv2d(3, 16, kernel_size=(3, 3), stride=(1, 1))\n"
     ]
    }
   ],
   "source": [
    "# 畳み込み層（Conv2d）を定義する\n",
    "# 入力チャンネル数: 3（例：RGB画像）\n",
    "# 出力チャンネル数: 16（16個の畳み込みフィルターを使用）\n",
    "# カーネルサイズ: 3（3x3の畳み込みフィルター）\n",
    "# ストライド: デフォルトは1（1ピクセルずつスライド）\n",
    "# パディング: デフォルトは0（ゼロパディングなし）\n",
    "# バイアス: デフォルトでTrue（各出力チャンネルにバイアス項あり）\n",
    "conv = nn.Conv2d(in_channels=3, out_channels=16, kernel_size=3)\n",
    "\n",
    "# 層の構成情報を出力（確認用）\n",
    "print(conv)"
   ]
  },
  {
   "cell_type": "code",
   "execution_count": 14,
   "id": "6c79a5e3",
   "metadata": {},
   "outputs": [
    {
     "data": {
      "text/plain": [
       "(torch.Size([16, 3, 3, 3]), torch.Size([16]))"
      ]
     },
     "execution_count": 14,
     "metadata": {},
     "output_type": "execute_result"
    }
   ],
   "source": [
    "conv.weight.shape, conv.bias.shape"
   ]
  },
  {
   "cell_type": "code",
   "execution_count": 15,
   "id": "162cafe2",
   "metadata": {},
   "outputs": [
    {
     "data": {
      "text/plain": [
       "(torch.Size([1, 3, 32, 32]), torch.Size([1, 16, 30, 30]))"
      ]
     },
     "execution_count": 15,
     "metadata": {},
     "output_type": "execute_result"
    }
   ],
   "source": [
    "# cifar2 データセットから1枚目の画像とラベルを取得（ここではラベルは使用しない）\n",
    "img, _ = cifar2[0]\n",
    "\n",
    "# Conv2d層は入力にミニバッチ次元が必要なため、unsqueeze(0) で1つ次元を追加して [1, 3, 32, 32] に変換\n",
    "# img の元の形状は [3, 32, 32]（チャンネル, 高さ, 幅）\n",
    "output = conv(img.unsqueeze(0))\n",
    "\n",
    "# 入力画像の shape（[1, 3, 32, 32]）と、conv を通した出力の shape を表示\n",
    "img.unsqueeze(0).shape, output.shape"
   ]
  },
  {
   "cell_type": "code",
   "execution_count": 16,
   "id": "1ead297b",
   "metadata": {},
   "outputs": [
    {
     "data": {
      "image/png": "[encoded data removed]",
      "text/plain": [
       "<Figure size 640x480 with 1 Axes>"
      ]
     },
     "metadata": {},
     "output_type": "display_data"
    }
   ],
   "source": [
    "plt.imshow(img.mean(0), cmap=\"gray\")\n",
    "plt.show()"
   ]
  },
  {
   "cell_type": "code",
   "execution_count": 17,
   "id": "ef22c3de",
   "metadata": {},
   "outputs": [
    {
     "data": {
      "image/png": "[encoded data removed]",
      "text/plain": [
       "<Figure size 1000x480 with 2 Axes>"
      ]
     },
     "metadata": {},
     "output_type": "display_data"
    }
   ],
   "source": [
    "# 出力と入力画像を並べて比較するためのプロット設定（横2枚）\n",
    "plt.figure(figsize=(10, 4.8))  # 図全体のサイズを設定（本では省略されている）\n",
    "\n",
    "# 左側に出力特徴マップ（Conv2Dの出力）を表示\n",
    "ax1 = plt.subplot(1, 2, 1)  # 左側のサブプロット（1行2列の1つ目）\n",
    "plt.title(\"output\")  # タイトルを設定\n",
    "plt.imshow(\n",
    "    output[0, 0].detach(), cmap=\"gray\"\n",
    ")  # バッチ0・チャネル0の出力をグレースケールで表示（detachで計算グラフから切り離し）\n",
    "\n",
    "# 右側に元の入力画像（平均化したもの）を表示\n",
    "plt.subplot(1, 2, 2, sharex=ax1, sharey=ax1)  # 左とx, y軸を共有\n",
    "plt.imshow(\n",
    "    img.mean(0), cmap=\"gray\"\n",
    ")  # 入力画像をチャネル方向に平均してグレースケール表示\n",
    "plt.title(\"input\")  # タイトルを設定\n",
    "\n",
    "# 図をPNG画像として保存（本では省略されている）\n",
    "plt.savefig(\"Ch8_F2_PyTorch.png\")\n",
    "\n",
    "# 表示\n",
    "plt.show()"
   ]
  },
  {
   "cell_type": "code",
   "execution_count": null,
   "id": "c28561bb",
   "metadata": {},
   "outputs": [],
   "source": []
  }
 ],
 "metadata": {
  "kernelspec": {
   "display_name": "Python (pytorch-env)",
   "language": "python",
   "name": "pytorch-env"
  },
  "language_info": {
   "codemirror_mode": {
    "name": "ipython",
    "version": 3
   },
   "file_extension": ".py",
   "mimetype": "text/x-python",
   "name": "python",
   "nbconvert_exporter": "python",
   "pygments_lexer": "ipython3",
   "version": "3.13.5"
  }
 },
 "nbformat": 4,
 "nbformat_minor": 5
}
