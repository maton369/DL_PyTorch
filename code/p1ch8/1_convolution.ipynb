{
 "cells": [
  {
   "cell_type": "code",
   "execution_count": 2,
   "id": "dd9aaba3",
   "metadata": {},
   "outputs": [
    {
     "data": {
      "text/plain": [
       "<torch._C.Generator at 0x13121a150>"
      ]
     },
     "execution_count": 2,
     "metadata": {},
     "output_type": "execute_result"
    }
   ],
   "source": [
    "%matplotlib inline\n",
    "from matplotlib import pyplot as plt\n",
    "import numpy as np\n",
    "import collections\n",
    "\n",
    "import torch\n",
    "import torch.nn as nn\n",
    "import torch.nn.functional as F\n",
    "import torch.optim as optim\n",
    "\n",
    "torch.set_printoptions(edgeitems=2)\n",
    "torch.manual_seed(123)"
   ]
  },
  {
   "cell_type": "code",
   "execution_count": 3,
   "id": "fe3d230e",
   "metadata": {},
   "outputs": [],
   "source": [
    "class_names = [\n",
    "    \"airplane\",\n",
    "    \"automobile\",\n",
    "    \"bird\",\n",
    "    \"cat\",\n",
    "    \"deer\",\n",
    "    \"dog\",\n",
    "    \"frog\",\n",
    "    \"horse\",\n",
    "    \"ship\",\n",
    "    \"truck\",\n",
    "]"
   ]
  },
  {
   "cell_type": "code",
   "execution_count": 4,
   "id": "bbadb65c",
   "metadata": {},
   "outputs": [],
   "source": [
    "from torchvision import datasets, transforms\n",
    "\n",
    "# すでに展開済みのCIFAR-10データの保存先を明示\n",
    "data_path = \"../data-unversioned/p1ch7\"\n",
    "\n",
    "# download=False にして、既存データを使う\n",
    "cifar10 = datasets.CIFAR10(\n",
    "    root=data_path,\n",
    "    train=True,\n",
    "    download=False,\n",
    "    transform=transforms.Compose(\n",
    "        [\n",
    "            transforms.ToTensor(),\n",
    "            transforms.Normalize((0.4915, 0.4823, 0.4468), (0.2470, 0.2435, 0.2616)),\n",
    "        ]\n",
    "    ),\n",
    ")"
   ]
  },
  {
   "cell_type": "code",
   "execution_count": 5,
   "id": "ddc844d4",
   "metadata": {},
   "outputs": [],
   "source": [
    "cifar10_val = datasets.CIFAR10(\n",
    "    data_path,\n",
    "    train=False,\n",
    "    download=True,\n",
    "    transform=transforms.Compose(\n",
    "        [\n",
    "            transforms.ToTensor(),\n",
    "            transforms.Normalize((0.4915, 0.4823, 0.4468), (0.2470, 0.2435, 0.2616)),\n",
    "        ]\n",
    "    ),\n",
    ")"
   ]
  },
  {
   "cell_type": "code",
   "execution_count": 6,
   "id": "d60a1f79",
   "metadata": {},
   "outputs": [],
   "source": [
    "label_map = {0: 0, 2: 1}\n",
    "class_names = [\"airplane\", \"bird\"]\n",
    "cifar2 = [(img, label_map[label]) for img, label in cifar10 if label in [0, 2]]\n",
    "cifar2_val = [(img, label_map[label]) for img, label in cifar10_val if label in [0, 2]]"
   ]
  },
  {
   "cell_type": "code",
   "execution_count": 7,
   "id": "0e0057fe",
   "metadata": {},
   "outputs": [],
   "source": [
    "connected_model = nn.Sequential(\n",
    "    nn.Linear(3072, 1024),\n",
    "    nn.Tanh(),\n",
    "    nn.Linear(1024, 512),\n",
    "    nn.Tanh(),\n",
    "    nn.Linear(512, 128),\n",
    "    nn.Tanh(),\n",
    "    nn.Linear(128, 2),\n",
    ")"
   ]
  },
  {
   "cell_type": "code",
   "execution_count": 8,
   "id": "f525fc9e",
   "metadata": {},
   "outputs": [
    {
     "data": {
      "text/plain": [
       "(3737474, [3145728, 1024, 524288, 512, 65536, 128, 256, 2])"
      ]
     },
     "execution_count": 8,
     "metadata": {},
     "output_type": "execute_result"
    }
   ],
   "source": [
    "numel_list = [\n",
    "    p.numel()  # 各パラメータテンソルの要素数（たとえば重み行列の総数）\n",
    "    for p in connected_model.parameters()  # 全てのパラメータをループ\n",
    "    if p.requires_grad == True  # 勾配計算対象（学習対象）パラメータのみ\n",
    "]\n",
    "\n",
    "sum(numel_list), numel_list"
   ]
  },
  {
   "cell_type": "code",
   "execution_count": 9,
   "id": "b6889db4",
   "metadata": {},
   "outputs": [],
   "source": [
    "first_model = nn.Sequential(\n",
    "    nn.Linear(3072, 512), nn.Tanh(), nn.Linear(512, 2), nn.LogSoftmax(dim=1)\n",
    ")"
   ]
  },
  {
   "cell_type": "code",
   "execution_count": 10,
   "id": "b15aafc6",
   "metadata": {},
   "outputs": [
    {
     "data": {
      "text/plain": [
       "(1574402, [1572864, 512, 1024, 2])"
      ]
     },
     "execution_count": 10,
     "metadata": {},
     "output_type": "execute_result"
    }
   ],
   "source": [
    "numel_list = [p.numel() for p in first_model.parameters()]\n",
    "sum(numel_list), numel_list"
   ]
  },
  {
   "cell_type": "code",
   "execution_count": 11,
   "id": "b887fec3",
   "metadata": {},
   "outputs": [
    {
     "data": {
      "text/plain": [
       "(torch.Size([1024, 3072]), torch.Size([1024]))"
      ]
     },
     "execution_count": 11,
     "metadata": {},
     "output_type": "execute_result"
    }
   ],
   "source": [
    "linear = nn.Linear(3072, 1024)\n",
    "\n",
    "linear.weight.shape, linear.bias.shape"
   ]
  },
  {
   "cell_type": "code",
   "execution_count": 12,
   "id": "3174115e",
   "metadata": {},
   "outputs": [
    {
     "name": "stdout",
     "output_type": "stream",
     "text": [
      "Conv2d(3, 16, kernel_size=(3, 3), stride=(1, 1))\n"
     ]
    }
   ],
   "source": [
    "# 畳み込み層（Conv2d）を定義する\n",
    "# 入力チャンネル数: 3（例：RGB画像）\n",
    "# 出力チャンネル数: 16（16個の畳み込みフィルターを使用）\n",
    "# カーネルサイズ: 3（3x3の畳み込みフィルター）\n",
    "# ストライド: デフォルトは1（1ピクセルずつスライド）\n",
    "# パディング: デフォルトは0（ゼロパディングなし）\n",
    "# バイアス: デフォルトでTrue（各出力チャンネルにバイアス項あり）\n",
    "conv = nn.Conv2d(in_channels=3, out_channels=16, kernel_size=3)\n",
    "\n",
    "# 層の構成情報を出力（確認用）\n",
    "print(conv)"
   ]
  },
  {
   "cell_type": "code",
   "execution_count": 13,
   "id": "6c79a5e3",
   "metadata": {},
   "outputs": [
    {
     "data": {
      "text/plain": [
       "(torch.Size([16, 3, 3, 3]), torch.Size([16]))"
      ]
     },
     "execution_count": 13,
     "metadata": {},
     "output_type": "execute_result"
    }
   ],
   "source": [
    "conv.weight.shape, conv.bias.shape"
   ]
  },
  {
   "cell_type": "code",
   "execution_count": 14,
   "id": "162cafe2",
   "metadata": {},
   "outputs": [
    {
     "data": {
      "text/plain": [
       "(torch.Size([1, 3, 32, 32]), torch.Size([1, 16, 30, 30]))"
      ]
     },
     "execution_count": 14,
     "metadata": {},
     "output_type": "execute_result"
    }
   ],
   "source": [
    "# cifar2 データセットから1枚目の画像とラベルを取得（ここではラベルは使用しない）\n",
    "img, _ = cifar2[0]\n",
    "\n",
    "# Conv2d層は入力にミニバッチ次元が必要なため、unsqueeze(0) で1つ次元を追加して [1, 3, 32, 32] に変換\n",
    "# img の元の形状は [3, 32, 32]（チャンネル, 高さ, 幅）\n",
    "output = conv(img.unsqueeze(0))\n",
    "\n",
    "# 入力画像の shape（[1, 3, 32, 32]）と、conv を通した出力の shape を表示\n",
    "img.unsqueeze(0).shape, output.shape"
   ]
  },
  {
   "cell_type": "code",
   "execution_count": 15,
   "id": "1ead297b",
   "metadata": {},
   "outputs": [
    {
     "data": {
      "image/png": "[encoded data removed]",
      "text/plain": [
       "<Figure size 640x480 with 1 Axes>"
      ]
     },
     "metadata": {},
     "output_type": "display_data"
    }
   ],
   "source": [
    "plt.imshow(img.mean(0), cmap=\"gray\")\n",
    "plt.show()"
   ]
  },
  {
   "cell_type": "code",
   "execution_count": 16,
   "id": "ef22c3de",
   "metadata": {},
   "outputs": [
    {
     "data": {
      "image/png": "[encoded data removed]",
      "text/plain": [
       "<Figure size 1000x480 with 2 Axes>"
      ]
     },
     "metadata": {},
     "output_type": "display_data"
    }
   ],
   "source": [
    "# 出力と入力画像を並べて比較するためのプロット設定（横2枚）\n",
    "plt.figure(figsize=(10, 4.8))  # 図全体のサイズを設定（本では省略されている）\n",
    "\n",
    "# 左側に出力特徴マップ（Conv2Dの出力）を表示\n",
    "ax1 = plt.subplot(1, 2, 1)  # 左側のサブプロット（1行2列の1つ目）\n",
    "plt.title(\"output\")  # タイトルを設定\n",
    "plt.imshow(\n",
    "    output[0, 0].detach(), cmap=\"gray\"\n",
    ")  # バッチ0・チャネル0の出力をグレースケールで表示（detachで計算グラフから切り離し）\n",
    "\n",
    "# 右側に元の入力画像（平均化したもの）を表示\n",
    "plt.subplot(1, 2, 2, sharex=ax1, sharey=ax1)  # 左とx, y軸を共有\n",
    "plt.imshow(\n",
    "    img.mean(0), cmap=\"gray\"\n",
    ")  # 入力画像をチャネル方向に平均してグレースケール表示\n",
    "plt.title(\"input\")  # タイトルを設定\n",
    "\n",
    "# 図をPNG画像として保存（本では省略されている）\n",
    "plt.savefig(\"Ch8_F2_PyTorch.png\")\n",
    "\n",
    "# 表示\n",
    "plt.show()"
   ]
  },
  {
   "cell_type": "code",
   "execution_count": 17,
   "id": "c28561bb",
   "metadata": {},
   "outputs": [
    {
     "data": {
      "text/plain": [
       "(torch.Size([1, 3, 32, 32]), torch.Size([1, 1, 32, 32]))"
      ]
     },
     "execution_count": 17,
     "metadata": {},
     "output_type": "execute_result"
    }
   ],
   "source": [
    "# 入力チャネル3（RGB）、出力チャネル1、カーネルサイズ3x3、パディング1のConv2D層を定義\n",
    "conv = nn.Conv2d(3, 1, kernel_size=3, padding=1)  # <1>\n",
    "\n",
    "# CIFAR2の画像（3チャネルのTensor）をバッチ次元を加えて(1, 3, 32, 32)に変形してConv2Dに通す\n",
    "output = conv(img.unsqueeze(0))\n",
    "\n",
    "# 入力と出力のテンソルサイズを確認\n",
    "img.unsqueeze(0).shape, output.shape"
   ]
  },
  {
   "cell_type": "code",
   "execution_count": 18,
   "id": "2ff3bc3c",
   "metadata": {},
   "outputs": [],
   "source": [
    "# 勾配追跡を無効にしてバイアスを0に設定（手動で重みを初期化するため）\n",
    "with torch.no_grad():\n",
    "    conv.bias.zero_()  # バイアス項をすべて0に設定\n",
    "\n",
    "# 勾配追跡を無効にしてカーネルの重みをすべて1/9に設定\n",
    "with torch.no_grad():\n",
    "    conv.weight.fill_(1.0 / 9.0)  # 3x3平均化フィルタとして畳み込み層を構成"
   ]
  },
  {
   "cell_type": "code",
   "execution_count": 19,
   "id": "5ffbd8ff",
   "metadata": {},
   "outputs": [
    {
     "data": {
      "image/png": "[encoded data removed]",
      "text/plain": [
       "<Figure size 1000x480 with 2 Axes>"
      ]
     },
     "metadata": {},
     "output_type": "display_data"
    }
   ],
   "source": [
    "# 畳み込み演算を実行（画像テンソルを1つのバッチとして扱うためにunsqueeze(0)）\n",
    "output = conv(img.unsqueeze(0))\n",
    "\n",
    "# 図のサイズを設定\n",
    "plt.figure(figsize=(10, 4.8))\n",
    "\n",
    "# 左側：畳み込み後の出力を表示\n",
    "ax1 = plt.subplot(1, 2, 1)\n",
    "plt.title(\"output\")\n",
    "# 出力テンソルの1枚目のチャネル（グレースケール）を可視化\n",
    "plt.imshow(output[0, 0].detach(), cmap=\"gray\")\n",
    "\n",
    "# 右側：元画像の平均（RGB→グレースケール相当）を表示\n",
    "plt.subplot(1, 2, 2, sharex=ax1, sharey=ax1)\n",
    "plt.title(\"input\")\n",
    "plt.imshow(img.mean(0), cmap=\"gray\")\n",
    "\n",
    "# 画像として保存（省略可能）\n",
    "plt.savefig(\"Ch8_F4_PyTorch.png\")\n",
    "\n",
    "# 描画\n",
    "plt.show()"
   ]
  },
  {
   "cell_type": "code",
   "execution_count": 20,
   "id": "9ccac93c",
   "metadata": {},
   "outputs": [],
   "source": [
    "# 3チャネル入力（RGB）に対し、1チャネル出力の畳み込み層を定義\n",
    "# カーネルサイズは3x3、padding=1により出力サイズは入力と同じになる\n",
    "conv = nn.Conv2d(in_channels=3, out_channels=1, kernel_size=3, padding=1)\n",
    "\n",
    "with torch.no_grad():\n",
    "    # Sobelフィルタのようなエッジ検出カーネル（横方向の変化を検出）\n",
    "    # conv.weight は shape (1, 3, 3, 3) なので、各チャネルに同じカーネルを設定する必要がある\n",
    "    kernel = torch.tensor([[-1.0, 0.0, 1.0], [-1.0, 0.0, 1.0], [-1.0, 0.0, 1.0]])\n",
    "\n",
    "    # conv.weight[0] の形状は (3, 3, 3)：RGBの各チャネルに対応\n",
    "    # 全チャネルに同じカーネルをコピーすることで、RGBの変化を統合して検出\n",
    "    for c in range(3):\n",
    "        conv.weight[0, c] = kernel\n",
    "\n",
    "    # バイアスをゼロに初期化（エッジ検出においてバイアスは不要）\n",
    "    conv.bias.zero_()"
   ]
  },
  {
   "cell_type": "code",
   "execution_count": 21,
   "id": "9e350468",
   "metadata": {},
   "outputs": [
    {
     "data": {
      "image/png": "[encoded data removed]",
      "text/plain": [
       "<Figure size 1000x480 with 2 Axes>"
      ]
     },
     "metadata": {},
     "output_type": "display_data"
    }
   ],
   "source": [
    "# conv層を通した画像（エッジ検出された画像）を取得\n",
    "# img.unsqueeze(0): バッチ次元を追加し、(C, H, W) → (1, C, H, W) に変換\n",
    "output = conv(img.unsqueeze(0))\n",
    "\n",
    "# 図のサイズを指定（横長）\n",
    "plt.figure(figsize=(10, 4.8))\n",
    "\n",
    "# 左側に出力画像（エッジ検出結果）を表示\n",
    "ax1 = plt.subplot(1, 2, 1)  # 1行2列の1番目のサブプロット\n",
    "plt.title(\"output\")  # タイトルを設定\n",
    "plt.imshow(output[0, 0].detach(), cmap=\"gray\")  # 1チャネルの画像として表示\n",
    "\n",
    "# 右側に元画像のグレースケール版（平均）を表示（比較のため）\n",
    "plt.subplot(1, 2, 2, sharex=ax1, sharey=ax1)  # 左と同じサイズ軸で並べる\n",
    "plt.imshow(img.mean(0), cmap=\"gray\")  # RGBの平均値をグレースケールとして表示\n",
    "plt.title(\"input\")  # タイトルを設定\n",
    "\n",
    "# 結果をファイルに保存（PNG形式）\n",
    "plt.savefig(\"Ch8_F5_PyTorch.png\")\n",
    "\n",
    "# 画面にプロットを表示\n",
    "plt.show()"
   ]
  },
  {
   "cell_type": "code",
   "execution_count": 22,
   "id": "0694a1c2",
   "metadata": {},
   "outputs": [
    {
     "data": {
      "text/plain": [
       "(torch.Size([1, 3, 32, 32]), torch.Size([1, 3, 16, 16]))"
      ]
     },
     "execution_count": 22,
     "metadata": {},
     "output_type": "execute_result"
    }
   ],
   "source": [
    "# 2×2 の最大値プーリング層（MaxPooling）を定義\n",
    "pool = nn.MaxPool2d(2)\n",
    "\n",
    "# img: 形状 (3, 32, 32) の画像（チャネル数=3、縦32、横32）\n",
    "# unsqueeze(0): バッチ次元を追加して (1, 3, 32, 32) に変換\n",
    "output = pool(img.unsqueeze(0))  # プーリングを適用\n",
    "\n",
    "# 入力画像と出力画像の形状を確認\n",
    "img.unsqueeze(0).shape, output.shape"
   ]
  },
  {
   "cell_type": "code",
   "execution_count": 23,
   "id": "02655c03",
   "metadata": {},
   "outputs": [],
   "source": [
    "# 畳み込みニューラルネットワーク（CNN）モデルを構築\n",
    "model = nn.Sequential(\n",
    "    # 入力: RGB画像（チャネル数3） → 出力: 16チャネル\n",
    "    nn.Conv2d(in_channels=3, out_channels=16, kernel_size=3, padding=1),\n",
    "    nn.Tanh(),  # 非線形活性化関数（tanh）\n",
    "    nn.MaxPool2d(kernel_size=2),  # 空間解像度を1/2に（32×32 → 16×16）\n",
    "    # 入力: 16チャネル → 出力: 8チャネル\n",
    "    nn.Conv2d(in_channels=16, out_channels=8, kernel_size=3, padding=1),\n",
    "    nn.Tanh(),  # 活性化関数\n",
    "    nn.MaxPool2d(kernel_size=2),  # 空間解像度をさらに1/2（16×16 → 8×8）\n",
    "    # ↓ここに全結合層などが続く予定（略）\n",
    "    # nn.Flatten(),\n",
    "    # nn.Linear(...),\n",
    "    # ...\n",
    ")"
   ]
  },
  {
   "cell_type": "code",
   "execution_count": 24,
   "id": "e6609e32",
   "metadata": {},
   "outputs": [],
   "source": [
    "# CIFAR-10画像（3チャネル・32x32ピクセル）を入力とするCNNモデル\n",
    "model = nn.Sequential(\n",
    "    # 畳み込み層1：入力3チャネル → 出力16チャネル（カーネル3x3, padding=1）\n",
    "    nn.Conv2d(in_channels=3, out_channels=16, kernel_size=3, padding=1),\n",
    "    nn.Tanh(),  # 活性化関数（双曲線正接関数）\n",
    "    # プーリング層1：2x2の最大プーリング（空間サイズを半分に）\n",
    "    nn.MaxPool2d(kernel_size=2),  # 出力サイズ：16チャネル × 16 × 16\n",
    "    # 畳み込み層2：16チャネル → 8チャネル（同様に3x3カーネル）\n",
    "    nn.Conv2d(in_channels=16, out_channels=8, kernel_size=3, padding=1),\n",
    "    nn.Tanh(),  # 活性化関数\n",
    "    # プーリング層2：再度2x2プーリング（空間サイズを半分に）\n",
    "    nn.MaxPool2d(kernel_size=2),  # 出力サイズ：8チャネル × 8 × 8\n",
    "    # 全結合層への接続（8*8*8 = 512 次元ベクトルをFlattenして線形変換）\n",
    "    nn.Flatten(),  # 出力を1次元に展開（バッチサイズ, 512）\n",
    "    nn.Linear(in_features=8 * 8 * 8, out_features=32),  # 隠れ層（32ユニット）\n",
    "    nn.Tanh(),  # 活性化関数\n",
    "    # 出力層：2クラス分類用（例：airplane vs bird）\n",
    "    nn.Linear(in_features=32, out_features=2),  # 最終出力（ロジット）\n",
    ")"
   ]
  },
  {
   "cell_type": "code",
   "execution_count": 25,
   "id": "9b967c1e",
   "metadata": {},
   "outputs": [
    {
     "data": {
      "text/plain": [
       "(18090, [432, 16, 1152, 8, 16384, 32, 64, 2])"
      ]
     },
     "execution_count": 25,
     "metadata": {},
     "output_type": "execute_result"
    }
   ],
   "source": [
    "# 各パラメータの要素数（numel）をリストとして取得\n",
    "numel_list = [p.numel() for p in model.parameters()]\n",
    "\n",
    "# 総パラメータ数と、各層のパラメータ数の一覧を表示\n",
    "total_params = sum(numel_list)\n",
    "total_params, numel_list"
   ]
  },
  {
   "cell_type": "code",
   "execution_count": 26,
   "id": "2fdb7edc",
   "metadata": {},
   "outputs": [],
   "source": [
    "# 画像テンソル `img` をバッチサイズ次元を加えて [1, 3, 32, 32] の形に変形\n",
    "# モデルに1枚の画像を入力し、出力（分類スコアなど）を得る\n",
    "output = model(img.unsqueeze(0))"
   ]
  },
  {
   "cell_type": "code",
   "execution_count": 27,
   "id": "ff294e2c",
   "metadata": {},
   "outputs": [],
   "source": [
    "# 畳み込みニューラルネットワークの定義\n",
    "class Net(nn.Module):\n",
    "    def __init__(self):\n",
    "        super().__init__()\n",
    "\n",
    "        # 入力チャンネル3（RGB画像）→出力チャンネル16、3x3カーネル、パディング1（出力サイズ保持）\n",
    "        self.conv1 = nn.Conv2d(3, 16, kernel_size=3, padding=1)\n",
    "\n",
    "        # 活性化関数 Tanh（非線形変換）\n",
    "        self.act1 = nn.Tanh()\n",
    "\n",
    "        # 2x2の最大プーリング（画像サイズを1/2に）\n",
    "        self.pool1 = nn.MaxPool2d(2)\n",
    "\n",
    "        # conv1の出力16チャネル→8チャネルに縮小、再度3x3カーネル\n",
    "        self.conv2 = nn.Conv2d(16, 8, kernel_size=3, padding=1)\n",
    "        self.act2 = nn.Tanh()\n",
    "        self.pool2 = nn.MaxPool2d(2)\n",
    "\n",
    "        # 全結合層1：8チャネル × 8ピクセル × 8ピクセル → 32次元に変換\n",
    "        self.fc1 = nn.Linear(8 * 8 * 8, 32)\n",
    "        self.act3 = nn.Tanh()\n",
    "\n",
    "        # 全結合層2：32次元 → 出力クラス数（ここでは2クラス）\n",
    "        self.fc2 = nn.Linear(32, 2)\n",
    "\n",
    "    def forward(self, x):\n",
    "        # conv1 → Tanh → MaxPool\n",
    "        out = self.pool1(self.act1(self.conv1(x)))\n",
    "\n",
    "        # conv2 → Tanh → MaxPool\n",
    "        out = self.pool2(self.act2(self.conv2(out)))\n",
    "\n",
    "        # 2次元の画像データを1次元ベクトルに変換\n",
    "        # バッチサイズ × 特徴数（8チャネル × 8 × 8 = 512）\n",
    "        out = out.view(-1, 8 * 8 * 8)  # <1>\n",
    "\n",
    "        # 全結合層 → Tanh\n",
    "        out = self.act3(self.fc1(out))\n",
    "\n",
    "        # 最終出力層（クラススコア）\n",
    "        out = self.fc2(out)\n",
    "\n",
    "        return out"
   ]
  },
  {
   "cell_type": "code",
   "execution_count": 28,
   "id": "633ea3b0",
   "metadata": {},
   "outputs": [
    {
     "data": {
      "text/plain": [
       "(18090, [432, 16, 1152, 8, 16384, 32, 64, 2])"
      ]
     },
     "execution_count": 28,
     "metadata": {},
     "output_type": "execute_result"
    }
   ],
   "source": [
    "model = Net()  # モデルのインスタンス化\n",
    "\n",
    "# 各パラメータ（重み・バイアス）の要素数をリスト化し、合計を算出\n",
    "numel_list = [p.numel() for p in model.parameters()]\n",
    "sum(numel_list), numel_list"
   ]
  },
  {
   "cell_type": "code",
   "execution_count": 29,
   "id": "064f8da4",
   "metadata": {},
   "outputs": [],
   "source": [
    "import torch.nn.functional as F\n",
    "\n",
    "\n",
    "class Net(nn.Module):\n",
    "    def __init__(self):\n",
    "        super().__init__()\n",
    "\n",
    "        # 入力: RGB画像 (3チャネル)\n",
    "        # 出力: 16チャネルの特徴マップ（カーネルサイズ3x3, パディング1で画像サイズ維持）\n",
    "        self.conv1 = nn.Conv2d(3, 16, kernel_size=3, padding=1)\n",
    "\n",
    "        # 入力: 16チャネル → 出力: 8チャネル\n",
    "        self.conv2 = nn.Conv2d(16, 8, kernel_size=3, padding=1)\n",
    "\n",
    "        # 全結合層1：8×8×8=512ユニット → 32ユニットへ圧縮\n",
    "        self.fc1 = nn.Linear(8 * 8 * 8, 32)\n",
    "\n",
    "        # 全結合層2：32ユニット → クラス数2（分類）\n",
    "        self.fc2 = nn.Linear(32, 2)\n",
    "\n",
    "    def forward(self, x):\n",
    "        # 第1畳み込み → tanh活性化関数 → 2×2の最大プーリング\n",
    "        out = F.max_pool2d(torch.tanh(self.conv1(x)), 2)\n",
    "\n",
    "        # 第2畳み込み → tanh活性化関数 → 2×2の最大プーリング\n",
    "        out = F.max_pool2d(torch.tanh(self.conv2(out)), 2)\n",
    "\n",
    "        # バッチサイズを維持したままテンソルをフラット化（shape: [batch_size, 512]）\n",
    "        out = out.view(-1, 8 * 8 * 8)\n",
    "\n",
    "        # 全結合層1 → tanh活性化関数\n",
    "        out = torch.tanh(self.fc1(out))\n",
    "\n",
    "        # 全結合層2（出力層）：分類結果のスコア（softmax/logsoftmaxは後段で適用）\n",
    "        out = self.fc2(out)\n",
    "\n",
    "        return out"
   ]
  },
  {
   "cell_type": "code",
   "execution_count": 30,
   "id": "0f73e333",
   "metadata": {},
   "outputs": [
    {
     "data": {
      "text/plain": [
       "tensor([[-0.0157,  0.1143]], grad_fn=<AddmmBackward0>)"
      ]
     },
     "execution_count": 30,
     "metadata": {},
     "output_type": "execute_result"
    }
   ],
   "source": [
    "model = Net()\n",
    "model(img.unsqueeze(0))"
   ]
  },
  {
   "cell_type": "code",
   "execution_count": 32,
   "id": "76a746b4",
   "metadata": {},
   "outputs": [],
   "source": [
    "import datetime\n",
    "\n",
    "\n",
    "def training_loop(n_epochs, optimizer, model, loss_fn, train_loader):\n",
    "    for epoch in range(1, n_epochs + 1):\n",
    "        loss_train = 0.0\n",
    "        for imgs, labels in train_loader:\n",
    "            outputs = model(imgs)\n",
    "            loss = loss_fn(outputs, labels)\n",
    "            optimizer.zero_grad()\n",
    "            loss.backward()\n",
    "            optimizer.step()\n",
    "            loss_train += loss.item()\n",
    "\n",
    "        if epoch == 1 or epoch % 10 == 0:\n",
    "            print(\n",
    "                \"{} Epoch {}, Training loss {:.4f}\".format(\n",
    "                    datetime.datetime.now(), epoch, loss_train / len(train_loader)\n",
    "                )\n",
    "            )"
   ]
  },
  {
   "cell_type": "code",
   "execution_count": 33,
   "id": "c09530c3",
   "metadata": {},
   "outputs": [
    {
     "name": "stdout",
     "output_type": "stream",
     "text": [
      "2025-08-07 16:26:08.848026 Epoch 1, Training loss 0.6205\n",
      "2025-08-07 16:26:37.666253 Epoch 10, Training loss 0.3409\n",
      "2025-08-07 16:27:08.397993 Epoch 20, Training loss 0.3016\n",
      "2025-08-07 16:27:38.182824 Epoch 30, Training loss 0.2756\n",
      "2025-08-07 16:28:09.647475 Epoch 40, Training loss 0.2557\n",
      "2025-08-07 16:28:43.913909 Epoch 50, Training loss 0.2359\n",
      "2025-08-07 16:29:15.976953 Epoch 60, Training loss 0.2203\n",
      "2025-08-07 16:29:46.911262 Epoch 70, Training loss 0.2042\n",
      "2025-08-07 16:30:16.785676 Epoch 80, Training loss 0.1906\n",
      "2025-08-07 16:30:47.904803 Epoch 90, Training loss 0.1763\n",
      "2025-08-07 16:31:17.179095 Epoch 100, Training loss 0.1639\n"
     ]
    }
   ],
   "source": [
    "train_loader = torch.utils.data.DataLoader(cifar2, batch_size=64, shuffle=True)  # <1>\n",
    "\n",
    "model = Net()  # <2>\n",
    "optimizer = optim.SGD(model.parameters(), lr=1e-2)  # <3>\n",
    "loss_fn = nn.CrossEntropyLoss()  # <4>\n",
    "\n",
    "training_loop(  # <5>\n",
    "    n_epochs=100,\n",
    "    optimizer=optimizer,\n",
    "    model=model,\n",
    "    loss_fn=loss_fn,\n",
    "    train_loader=train_loader,\n",
    ")\n",
    "\n",
    "# <1>\n",
    "# cifar2（airplaneとbirdの2クラス）のデータセットをDataLoaderでラップする。\n",
    "# これにより、64枚ずつのバッチでモデルに渡せるようになり、学習が高速化される。\n",
    "# shuffle=True により、毎エポックごとにデータの順序をランダムにする。\n",
    "# これにより、学習が偏らず汎化性能が高まる。\n",
    "\n",
    "# <2>\n",
    "# 自作の畳み込みニューラルネットワーク Net クラスをインスタンス化し、\n",
    "# 学習対象のモデルとして準備する。\n",
    "\n",
    "# <3>\n",
    "# 学習には確率的勾配降下法（SGD）を使用し、学習率は 1e-2（0.01）に設定する。\n",
    "# optimizer は、model.parameters()（学習可能パラメータ）を対象に更新を行う。\n",
    "\n",
    "# <4>\n",
    "# 分類問題に広く使われるクロスエントロピー損失関数を使用。\n",
    "# モデルの出力が生のロジットである必要がある（LogSoftmax は不要）。\n",
    "\n",
    "# <5>\n",
    "# 事前に定義した training_loop 関数を使ってモデルを訓練する。\n",
    "# 引数には、エポック数、最適化手法、モデル本体、損失関数、訓練データローダーを渡す。"
   ]
  },
  {
   "cell_type": "code",
   "execution_count": 34,
   "id": "7339aa05",
   "metadata": {},
   "outputs": [
    {
     "name": "stdout",
     "output_type": "stream",
     "text": [
      "Accuracy train: 0.93\n",
      "Accuracy val: 0.90\n"
     ]
    }
   ],
   "source": [
    "train_loader = torch.utils.data.DataLoader(cifar2, batch_size=64, shuffle=False)\n",
    "val_loader = torch.utils.data.DataLoader(cifar2_val, batch_size=64, shuffle=False)\n",
    "\n",
    "\n",
    "def validate(model, train_loader, val_loader):\n",
    "    for name, loader in [(\"train\", train_loader), (\"val\", val_loader)]:\n",
    "        correct = 0\n",
    "        total = 0\n",
    "\n",
    "        with torch.no_grad():  # <1> 勾配計算を無効化（評価時は学習しないため不要）\n",
    "            for imgs, labels in loader:\n",
    "                outputs = model(imgs)\n",
    "                _, predicted = torch.max(\n",
    "                    outputs, dim=1\n",
    "                )  # <2> 最も高いスコアのインデックス（クラス）を取得\n",
    "                total += labels.shape[0]  # <3> バッチ内のサンプル数を加算\n",
    "                correct += int(\n",
    "                    (predicted == labels).sum()\n",
    "                )  # <4> 正解数を加算（Bool配列をintへ）\n",
    "\n",
    "        print(\"Accuracy {}: {:.2f}\".format(name, correct / total))\n",
    "\n",
    "\n",
    "validate(model, train_loader, val_loader)"
   ]
  },
  {
   "cell_type": "code",
   "execution_count": 35,
   "id": "a23570cc",
   "metadata": {},
   "outputs": [],
   "source": [
    "torch.save(model.state_dict(), data_path + \"birds_vs_airplanes.pt\")"
   ]
  },
  {
   "cell_type": "code",
   "execution_count": 36,
   "id": "a59d6cd5",
   "metadata": {},
   "outputs": [
    {
     "data": {
      "text/plain": [
       "<All keys matched successfully>"
      ]
     },
     "execution_count": 36,
     "metadata": {},
     "output_type": "execute_result"
    }
   ],
   "source": [
    "# モデルのインスタンスを生成する\n",
    "loaded_model = Net()  # <1>\n",
    "\n",
    "# 保存しておいたモデルの学習済みパラメータ（state_dict）を読み込む\n",
    "loaded_model.load_state_dict(torch.load(data_path + \"birds_vs_airplanes.pt\"))\n",
    "\n",
    "# <1>\n",
    "# 注意：モデル定義（クラス Net）の構造が保存時と一致している必要がある。\n",
    "# 例えばレイヤーの数や順番が異なると、読み込み時にエラーとなる。"
   ]
  },
  {
   "cell_type": "code",
   "execution_count": 37,
   "id": "f75deacd",
   "metadata": {},
   "outputs": [
    {
     "name": "stdout",
     "output_type": "stream",
     "text": [
      "Training on device cpu.\n"
     ]
    }
   ],
   "source": [
    "device = torch.device(\"cuda\") if torch.cuda.is_available() else torch.device(\"cpu\")\n",
    "print(f\"Training on device {device}.\")"
   ]
  },
  {
   "cell_type": "code",
   "execution_count": 43,
   "id": "7fbb0ce4",
   "metadata": {},
   "outputs": [
    {
     "name": "stdout",
     "output_type": "stream",
     "text": [
      "Training on device mps.\n"
     ]
    }
   ],
   "source": [
    "# モデルの学習・推論に使用するデバイスを自動で選択\n",
    "# 優先順位: CUDA(GPU) > MPS(MacのMetal) > CPU\n",
    "if torch.cuda.is_available():\n",
    "    device = torch.device(\"cuda\")\n",
    "elif torch.backends.mps.is_available():\n",
    "    device = torch.device(\"mps\")\n",
    "else:\n",
    "    device = torch.device(\"cpu\")\n",
    "\n",
    "# 選択されたデバイスを表示\n",
    "print(f\"Training on device {device}.\")"
   ]
  },
  {
   "cell_type": "code",
   "execution_count": 44,
   "id": "cdedd79a",
   "metadata": {},
   "outputs": [],
   "source": [
    "import datetime\n",
    "\n",
    "\n",
    "def training_loop(n_epochs, optimizer, model, loss_fn, train_loader):\n",
    "    for epoch in range(1, n_epochs + 1):\n",
    "        loss_train = 0.0  # 各エポックの累積損失を初期化\n",
    "\n",
    "        for imgs, labels in train_loader:\n",
    "            imgs = imgs.to(device=device)  # <1> 入力画像を指定デバイス（GPU/CPU）に転送\n",
    "            labels = labels.to(device=device)  # 正解ラベルも同じデバイスに転送\n",
    "\n",
    "            outputs = model(imgs)  # モデルに画像を入力して出力（予測値）を得る\n",
    "            loss = loss_fn(outputs, labels)  # 出力と正解ラベルから損失を計算\n",
    "\n",
    "            optimizer.zero_grad()  # 前回の勾配情報をリセット\n",
    "            loss.backward()  # 誤差逆伝播で各パラメータの勾配を計算\n",
    "            optimizer.step()  # 勾配を使ってパラメータを更新\n",
    "\n",
    "            loss_train += loss.item()  # バッチごとの損失を加算（float化）\n",
    "\n",
    "        # 初回または10エポックごとに損失の平均を表示\n",
    "        if epoch == 1 or epoch % 10 == 0:\n",
    "            print(\n",
    "                \"{} Epoch {}, Training loss {:.4f}\".format(\n",
    "                    datetime.datetime.now(), epoch, loss_train / len(train_loader)\n",
    "                )\n",
    "            )"
   ]
  },
  {
   "cell_type": "code",
   "execution_count": 45,
   "id": "7cb1ec50",
   "metadata": {},
   "outputs": [
    {
     "name": "stdout",
     "output_type": "stream",
     "text": [
      "2025-08-08 19:12:39.772938 Epoch 1, Training loss 0.5724\n",
      "2025-08-08 19:12:47.762502 Epoch 10, Training loss 0.3307\n",
      "2025-08-08 19:12:56.285359 Epoch 20, Training loss 0.2915\n",
      "2025-08-08 19:13:04.418745 Epoch 30, Training loss 0.2655\n",
      "2025-08-08 19:13:12.623989 Epoch 40, Training loss 0.2490\n",
      "2025-08-08 19:13:20.737307 Epoch 50, Training loss 0.2325\n",
      "2025-08-08 19:13:28.850945 Epoch 60, Training loss 0.2179\n",
      "2025-08-08 19:13:37.096760 Epoch 70, Training loss 0.1981\n",
      "2025-08-08 19:13:45.327588 Epoch 80, Training loss 0.1868\n",
      "2025-08-08 19:13:53.421773 Epoch 90, Training loss 0.1708\n",
      "2025-08-08 19:14:01.819875 Epoch 100, Training loss 0.1551\n"
     ]
    }
   ],
   "source": [
    "train_loader = torch.utils.data.DataLoader(\n",
    "    cifar2, batch_size=64, shuffle=True\n",
    ")  # DataLoaderでデータを64枚ずつのバッチにまとめ、順番をシャッフル\n",
    "\n",
    "model = Net().to(\n",
    "    device=device\n",
    ")  # <1> ネットワークを生成し、指定デバイス（GPU/CPU）に転送\n",
    "optimizer = optim.SGD(\n",
    "    model.parameters(), lr=1e-2\n",
    ")  # SGD（確率的勾配降下法）で学習率1e-2を設定\n",
    "loss_fn = nn.CrossEntropyLoss()  # 多クラス分類用の損失関数（交差エントロピー損失）\n",
    "\n",
    "# 学習ループを呼び出し、100エポック分の学習を実行\n",
    "training_loop(\n",
    "    n_epochs=100,\n",
    "    optimizer=optimizer,\n",
    "    model=model,\n",
    "    loss_fn=loss_fn,\n",
    "    train_loader=train_loader,\n",
    ")"
   ]
  },
  {
   "cell_type": "code",
   "execution_count": 46,
   "id": "a7a4b7e9",
   "metadata": {},
   "outputs": [
    {
     "name": "stdout",
     "output_type": "stream",
     "text": [
      "Accuracy train: 0.94\n",
      "Accuracy val: 0.89\n"
     ]
    }
   ],
   "source": [
    "train_loader = torch.utils.data.DataLoader(\n",
    "    cifar2, batch_size=64, shuffle=False\n",
    ")  # 訓練データを64枚ずつのバッチにまとめ、順番は固定\n",
    "val_loader = torch.utils.data.DataLoader(\n",
    "    cifar2_val, batch_size=64, shuffle=False\n",
    ")  # 検証データも同様にバッチ化、順序固定\n",
    "\n",
    "all_acc_dict = collections.OrderedDict()  # 評価結果を記録するための順序付き辞書\n",
    "\n",
    "\n",
    "def validate(model, train_loader, val_loader):\n",
    "    \"\"\"\n",
    "    モデルの訓練データおよび検証データに対する精度を計算する関数\n",
    "    \"\"\"\n",
    "    accdict = {}  # 結果を格納する辞書\n",
    "    for name, loader in [(\"train\", train_loader), (\"val\", val_loader)]:\n",
    "        correct = 0  # 正解数\n",
    "        total = 0  # サンプル総数\n",
    "\n",
    "        with torch.no_grad():  # 評価時は勾配計算不要\n",
    "            for imgs, labels in loader:\n",
    "                imgs = imgs.to(device=device)  # 入力データをGPU/CPUへ転送\n",
    "                labels = labels.to(device=device)  # ラベルも転送\n",
    "                outputs = model(imgs)  # モデルによる予測\n",
    "                _, predicted = torch.max(\n",
    "                    outputs, dim=1\n",
    "                )  # <1> 出力の最大値インデックス（予測クラス）を取得\n",
    "                total += labels.shape[0]  # バッチサイズを加算\n",
    "                correct += int((predicted == labels).sum())  # 一致した予測数を加算\n",
    "\n",
    "        print(\"Accuracy {}: {:.2f}\".format(name, correct / total))\n",
    "        accdict[name] = correct / total  # 訓練・検証ごとの精度を記録\n",
    "    return accdict\n",
    "\n",
    "\n",
    "# ベースラインモデルの精度を計算して記録\n",
    "all_acc_dict[\"baseline\"] = validate(model, train_loader, val_loader)"
   ]
  },
  {
   "cell_type": "code",
   "execution_count": 47,
   "id": "5cf754ac",
   "metadata": {},
   "outputs": [
    {
     "data": {
      "text/plain": [
       "<All keys matched successfully>"
      ]
     },
     "execution_count": 47,
     "metadata": {},
     "output_type": "execute_result"
    }
   ],
   "source": [
    "# 保存済みモデルの読み込み\n",
    "loaded_model = Net().to(device=device)  # モデル構造をインスタンス化し、GPU/CPUへ転送\n",
    "loaded_model.load_state_dict(\n",
    "    torch.load(\n",
    "        data_path + \"birds_vs_airplanes.pt\",  # 学習済みパラメータファイルのパス\n",
    "        map_location=device,  # 保存時と異なる環境（CPU/GPU）でも読み込めるようにマッピング\n",
    "    )\n",
    ")"
   ]
  },
  {
   "cell_type": "code",
   "execution_count": 48,
   "id": "cf330c93",
   "metadata": {},
   "outputs": [],
   "source": [
    "# 幅（チャンネル数）を増やしたCNNである。\n",
    "# conv1を16→32チャネル、conv2を8→16チャネルに拡張し、特徴表現の容量を上げる設計である。\n",
    "class NetWidth(nn.Module):\n",
    "    def __init__(self):\n",
    "        super().__init__()\n",
    "        # 入力3チャネル(RGB) → 32チャネルへ。kernel=3, padding=1 により空間サイズは保持される(32x32 → 32x32)である。\n",
    "        self.conv1 = nn.Conv2d(3, 32, kernel_size=3, padding=1)\n",
    "        # 32チャネル → 16チャネルへ。ここでも空間サイズは保持される。\n",
    "        self.conv2 = nn.Conv2d(32, 16, kernel_size=3, padding=1)\n",
    "        # プーリング2回で空間は 32→16→8 に縮小されるため、特徴マップは (16, 8, 8) となる。\n",
    "        # よって全結合の入力次元は 16*8*8 = 1024 である。\n",
    "        self.fc1 = nn.Linear(16 * 8 * 8, 32)\n",
    "        # 出力は2クラスのスコア（ロジット）である。CrossEntropyLossと併用を想定するためSoftmaxは付けない。\n",
    "        self.fc2 = nn.Linear(32, 2)\n",
    "\n",
    "    def forward(self, x):\n",
    "        # 第1畳み込み → tanh → 2x2 MaxPool（空間: 32→16）。出力形状は (B, 32, 16, 16) である。\n",
    "        out = F.max_pool2d(torch.tanh(self.conv1(x)), 2)\n",
    "        # 第2畳み込み → tanh → 2x2 MaxPool（空間: 16→8）。出力形状は (B, 16, 8, 8) である。\n",
    "        out = F.max_pool2d(torch.tanh(self.conv2(out)), 2)\n",
    "        # 全結合層に渡すためにフラット化する。形状は (B, 16*8*8) = (B, 1024) である。\n",
    "        out = out.view(-1, 16 * 8 * 8)\n",
    "        # 中間全結合 → tanh により非線形性を付与する。\n",
    "        out = torch.tanh(self.fc1(out))\n",
    "        # 最終全結合で2クラスのロジットを出力する。\n",
    "        out = self.fc2(out)\n",
    "        return out"
   ]
  },
  {
   "cell_type": "code",
   "execution_count": 49,
   "id": "5d1b7a76",
   "metadata": {},
   "outputs": [
    {
     "name": "stdout",
     "output_type": "stream",
     "text": [
      "2025-08-08 19:26:48.480187 Epoch 1, Training loss 0.5461\n",
      "2025-08-08 19:26:59.186688 Epoch 10, Training loss 0.3223\n",
      "2025-08-08 19:27:11.151542 Epoch 20, Training loss 0.2828\n",
      "2025-08-08 19:27:23.434055 Epoch 30, Training loss 0.2501\n",
      "2025-08-08 19:27:36.596970 Epoch 40, Training loss 0.2199\n",
      "2025-08-08 19:27:50.067996 Epoch 50, Training loss 0.1936\n",
      "2025-08-08 19:28:02.687765 Epoch 60, Training loss 0.1696\n",
      "2025-08-08 19:28:15.894335 Epoch 70, Training loss 0.1468\n",
      "2025-08-08 19:28:28.634432 Epoch 80, Training loss 0.1255\n",
      "2025-08-08 19:28:41.354191 Epoch 90, Training loss 0.1060\n",
      "2025-08-08 19:28:53.557957 Epoch 100, Training loss 0.0887\n",
      "Accuracy train: 0.96\n",
      "Accuracy val: 0.89\n"
     ]
    },
    {
     "data": {
      "text/plain": [
       "{'train': 0.9613, 'val': 0.8945}"
      ]
     },
     "execution_count": 49,
     "metadata": {},
     "output_type": "execute_result"
    }
   ],
   "source": [
    "# 幅を増やしたCNNモデルをデバイスへ転送し、最適化手法と損失関数を準備する。\n",
    "model = NetWidth().to(device=device)  # モデル本体をGPU/MPS/CPUへ配置する。\n",
    "optimizer = optim.SGD(\n",
    "    model.parameters(), lr=1e-2\n",
    ")  # 確率的勾配降下法（学習率1e-2）を用いる。\n",
    "loss_fn = (\n",
    "    nn.CrossEntropyLoss()\n",
    ")  # 多クラス分類用の交差エントロピー損失である（ロジット入力前提）。\n",
    "\n",
    "# 100エポック学習を実行する。training_loop内でデバイス転送・順伝播・損失計算・逆伝播・更新を行う。\n",
    "training_loop(\n",
    "    n_epochs=100,\n",
    "    optimizer=optimizer,\n",
    "    model=model,\n",
    "    loss_fn=loss_fn,\n",
    "    train_loader=train_loader,\n",
    ")\n",
    "\n",
    "# 評価時は学習挙動を固定するためevalモードへ（Dropout/BatchNormがある場合に効果あり）。\n",
    "# 本モデルには該当層は無いが、評価の定石として明示しておく。\n",
    "model.eval()  # 評価モードへ切替（勾配計算はvalidate内でno_grad指定済み）。\n",
    "validate(\n",
    "    model, train_loader, val_loader\n",
    ")  # 訓練・検証データに対する正解率を算出・表示する。"
   ]
  },
  {
   "cell_type": "code",
   "execution_count": 50,
   "id": "81a31d29",
   "metadata": {},
   "outputs": [],
   "source": [
    "class NetWidth(nn.Module):\n",
    "    def __init__(self, n_chans1=32):\n",
    "        super().__init__()\n",
    "        # n_chans1: 1層目の畳み込み層の出力チャネル数（フィルタ数）を指定\n",
    "        self.n_chans1 = n_chans1\n",
    "\n",
    "        # 1層目の畳み込み層（入力3チャネル: RGB、出力n_chans1チャネル、3x3フィルタ、パディング1で空間サイズを維持）\n",
    "        self.conv1 = nn.Conv2d(3, n_chans1, kernel_size=3, padding=1)\n",
    "\n",
    "        # 2層目の畳み込み層（入力n_chans1チャネル、出力はその半分のチャネル数）\n",
    "        self.conv2 = nn.Conv2d(n_chans1, n_chans1 // 2, kernel_size=3, padding=1)\n",
    "\n",
    "        # 全結合層1（入力は8x8の特徴マップ×n_chans1//2チャネル → 出力32次元）\n",
    "        self.fc1 = nn.Linear(8 * 8 * n_chans1 // 2, 32)\n",
    "\n",
    "        # 全結合層2（入力32次元 → 出力2クラス分類）\n",
    "        self.fc2 = nn.Linear(32, 2)\n",
    "\n",
    "    def forward(self, x):\n",
    "        # 1層目: 畳み込み → Tanh活性化 → 2x2最大プーリングで空間サイズを半分に\n",
    "        out = F.max_pool2d(torch.tanh(self.conv1(x)), 2)\n",
    "\n",
    "        # 2層目: 畳み込み → Tanh活性化 → 2x2最大プーリングでさらに空間サイズを半分に\n",
    "        out = F.max_pool2d(torch.tanh(self.conv2(out)), 2)\n",
    "\n",
    "        # 全結合層に入力するため、(バッチサイズ, 特徴量数) にフラット化\n",
    "        out = out.view(-1, 8 * 8 * self.n_chans1 // 2)\n",
    "\n",
    "        # 全結合層1 → Tanh活性化\n",
    "        out = torch.tanh(self.fc1(out))\n",
    "\n",
    "        # 全結合層2（出力はロジット）\n",
    "        out = self.fc2(out)\n",
    "        return out"
   ]
  },
  {
   "cell_type": "code",
   "execution_count": 51,
   "id": "a47fb62b",
   "metadata": {},
   "outputs": [
    {
     "name": "stdout",
     "output_type": "stream",
     "text": [
      "2025-08-08 19:29:20.547302 Epoch 1, Training loss 0.5581\n",
      "2025-08-08 19:29:32.243638 Epoch 10, Training loss 0.3256\n",
      "2025-08-08 19:29:44.831507 Epoch 20, Training loss 0.2789\n",
      "2025-08-08 19:29:57.634893 Epoch 30, Training loss 0.2461\n",
      "2025-08-08 19:30:10.822411 Epoch 40, Training loss 0.2178\n",
      "2025-08-08 19:30:23.697737 Epoch 50, Training loss 0.1909\n",
      "2025-08-08 19:30:36.381581 Epoch 60, Training loss 0.1660\n",
      "2025-08-08 19:30:49.113316 Epoch 70, Training loss 0.1429\n",
      "2025-08-08 19:31:01.783578 Epoch 80, Training loss 0.1214\n",
      "2025-08-08 19:31:14.390115 Epoch 90, Training loss 0.1016\n",
      "2025-08-08 19:31:27.068262 Epoch 100, Training loss 0.0834\n",
      "Accuracy train: 0.97\n",
      "Accuracy val: 0.88\n"
     ]
    }
   ],
   "source": [
    "# モデルを初期化（n_chans1=32で幅を指定）\n",
    "model = NetWidth(n_chans1=32).to(device=device)\n",
    "\n",
    "# 最適化手法をSGD（確率的勾配降下法）で設定、学習率は0.01\n",
    "optimizer = optim.SGD(model.parameters(), lr=1e-2)\n",
    "\n",
    "# 損失関数にクロスエントロピー誤差を使用（分類問題向け）\n",
    "loss_fn = nn.CrossEntropyLoss()\n",
    "\n",
    "# 100エポック分、モデルの学習を実行\n",
    "training_loop(\n",
    "    n_epochs=100,\n",
    "    optimizer=optimizer,\n",
    "    model=model,\n",
    "    loss_fn=loss_fn,\n",
    "    train_loader=train_loader,\n",
    ")\n",
    "\n",
    "# 学習後のモデルを評価し、訓練セットと検証セットの精度を記録\n",
    "all_acc_dict[\"width\"] = validate(model, train_loader, val_loader)"
   ]
  },
  {
   "cell_type": "code",
   "execution_count": 52,
   "id": "9e834324",
   "metadata": {},
   "outputs": [
    {
     "data": {
      "text/plain": [
       "38386"
      ]
     },
     "execution_count": 52,
     "metadata": {},
     "output_type": "execute_result"
    }
   ],
   "source": [
    "sum(p.numel() for p in model.parameters())"
   ]
  },
  {
   "cell_type": "code",
   "execution_count": 53,
   "id": "bba2f057",
   "metadata": {},
   "outputs": [],
   "source": [
    "def training_loop_l2reg(n_epochs, optimizer, model, loss_fn, train_loader):\n",
    "    \"\"\"\n",
    "    L2正則化（Weight Decay）を手動で加えた学習ループ\n",
    "    \"\"\"\n",
    "    for epoch in range(1, n_epochs + 1):\n",
    "        loss_train = 0.0  # 各エポックの累積損失を記録する変数\n",
    "\n",
    "        # 学習データローダーからミニバッチを取り出す\n",
    "        for imgs, labels in train_loader:\n",
    "            # <GPU/MPS/CPU> にデータを転送\n",
    "            imgs = imgs.to(device=device)\n",
    "            labels = labels.to(device=device)\n",
    "\n",
    "            # モデルの順伝播（予測値を計算）\n",
    "            outputs = model(imgs)\n",
    "\n",
    "            # 交差エントロピー損失を計算（分類タスク用）\n",
    "            loss = loss_fn(outputs, labels)\n",
    "\n",
    "            # ==========================\n",
    "            # L2正則化項の追加処理\n",
    "            # ==========================\n",
    "            l2_lambda = 0.001  # 正則化の強さ（係数）\n",
    "            # 全パラメータの二乗和を計算\n",
    "            l2_norm = sum(p.pow(2.0).sum() for p in model.parameters())  # <1>\n",
    "            # 元の損失にL2正則化項を加算\n",
    "            loss = loss + l2_lambda * l2_norm\n",
    "\n",
    "            # 勾配を初期化（累積を防ぐ）\n",
    "            optimizer.zero_grad()\n",
    "\n",
    "            # 誤差逆伝播（各パラメータの勾配を計算）\n",
    "            loss.backward()\n",
    "\n",
    "            # パラメータの更新（SGDなど）\n",
    "            optimizer.step()\n",
    "\n",
    "            # ミニバッチ損失を加算（.item()でPythonのfloatに変換）\n",
    "            loss_train += loss.item()\n",
    "\n",
    "        # 進捗ログ（初回と10エポックごとに表示）\n",
    "        if epoch == 1 or epoch % 10 == 0:\n",
    "            print(\n",
    "                \"{} Epoch {}, Training loss {:.4f}\".format(\n",
    "                    datetime.datetime.now(), epoch, loss_train / len(train_loader)\n",
    "                )\n",
    "            )  # バッチ平均の損失を出力"
   ]
  },
  {
   "cell_type": "code",
   "execution_count": 54,
   "id": "432a82dc",
   "metadata": {},
   "outputs": [
    {
     "name": "stdout",
     "output_type": "stream",
     "text": [
      "2025-08-08 19:36:55.590722 Epoch 1, Training loss 0.6125\n",
      "2025-08-08 19:37:05.782370 Epoch 10, Training loss 0.3482\n",
      "2025-08-08 19:37:17.087890 Epoch 20, Training loss 0.3223\n",
      "2025-08-08 19:37:28.642603 Epoch 30, Training loss 0.3048\n",
      "2025-08-08 19:37:39.936260 Epoch 40, Training loss 0.2877\n",
      "2025-08-08 19:37:51.223356 Epoch 50, Training loss 0.2721\n",
      "2025-08-08 19:38:02.555364 Epoch 60, Training loss 0.2585\n",
      "2025-08-08 19:38:15.200333 Epoch 70, Training loss 0.2467\n",
      "2025-08-08 19:38:26.354619 Epoch 80, Training loss 0.2360\n",
      "2025-08-08 19:38:37.788019 Epoch 90, Training loss 0.2263\n",
      "2025-08-08 19:38:48.935163 Epoch 100, Training loss 0.2173\n",
      "Accuracy train: 0.92\n",
      "Accuracy val: 0.89\n"
     ]
    }
   ],
   "source": [
    "# モデルのインスタンスを生成し、指定されたデバイス（GPU/MPS/CPU）に転送\n",
    "model = Net().to(device=device)\n",
    "\n",
    "# 最適化手法として確率的勾配降下法（SGD）を設定\n",
    "# model.parameters() は学習対象のパラメータを返す\n",
    "# lr=1e-2 は学習率を 0.01 に設定\n",
    "optimizer = optim.SGD(model.parameters(), lr=1e-2)\n",
    "\n",
    "# 損失関数として交差エントロピー損失を設定\n",
    "# 分類タスクでよく使われ、出力はSoftmax前のlogitを想定\n",
    "loss_fn = nn.CrossEntropyLoss()\n",
    "\n",
    "# 学習ループ（L2正則化あり）を実行\n",
    "training_loop_l2reg(\n",
    "    n_epochs=100,  # 学習エポック数\n",
    "    optimizer=optimizer,  # 最適化関数\n",
    "    model=model,  # 学習対象のモデル\n",
    "    loss_fn=loss_fn,  # 損失関数\n",
    "    train_loader=train_loader,  # 訓練データローダ\n",
    ")\n",
    "\n",
    "# 学習済みモデルを用いて訓練データと検証データの精度を計算\n",
    "# validate関数は精度を計算し、辞書形式で返す\n",
    "all_acc_dict[\"l2 reg\"] = validate(model, train_loader, val_loader)"
   ]
  },
  {
   "cell_type": "code",
   "execution_count": 55,
   "id": "954e970c",
   "metadata": {},
   "outputs": [],
   "source": [
    "class NetDropout(nn.Module):\n",
    "    def __init__(self, n_chans1=32):\n",
    "        super().__init__()\n",
    "        self.n_chans1 = n_chans1  # 最初の畳み込み層の出力チャネル数\n",
    "\n",
    "        # --- 畳み込み層1 ---\n",
    "        # 入力: RGB画像（3チャネル）\n",
    "        # 出力: n_chans1 チャネルの特徴マップ\n",
    "        self.conv1 = nn.Conv2d(3, n_chans1, kernel_size=3, padding=1)\n",
    "\n",
    "        # ドロップアウト（2D版: 特徴マップ単位で無効化）\n",
    "        # p=0.4 → 40% の特徴マップをランダムに無効化\n",
    "        self.conv1_dropout = nn.Dropout2d(p=0.4)\n",
    "\n",
    "        # --- 畳み込み層2 ---\n",
    "        # 入力: n_chans1 チャネル\n",
    "        # 出力: n_chans1 // 2 チャネル\n",
    "        self.conv2 = nn.Conv2d(n_chans1, n_chans1 // 2, kernel_size=3, padding=1)\n",
    "\n",
    "        # ドロップアウト（2D版）\n",
    "        self.conv2_dropout = nn.Dropout2d(p=0.4)\n",
    "\n",
    "        # --- 全結合層1 ---\n",
    "        # 入力次元: 8×8の空間サイズ × (n_chans1 // 2) チャネル\n",
    "        # 出力次元: 32\n",
    "        self.fc1 = nn.Linear(8 * 8 * n_chans1 // 2, 32)\n",
    "\n",
    "        # --- 全結合層2 ---\n",
    "        # 出力次元: 2クラス分類（例: 鳥 vs 飛行機）\n",
    "        self.fc2 = nn.Linear(32, 2)\n",
    "\n",
    "    def forward(self, x):\n",
    "        # 畳み込み層1 → Tanh活性化 → 2×2のMaxPooling\n",
    "        out = F.max_pool2d(torch.tanh(self.conv1(x)), 2)\n",
    "\n",
    "        # ドロップアウト（訓練時のみ有効）\n",
    "        out = self.conv1_dropout(out)\n",
    "\n",
    "        # 畳み込み層2 → Tanh活性化 → 2×2のMaxPooling\n",
    "        out = F.max_pool2d(torch.tanh(self.conv2(out)), 2)\n",
    "\n",
    "        # ドロップアウト\n",
    "        out = self.conv2_dropout(out)\n",
    "\n",
    "        # 特徴マップをフラット化（バッチサイズ × 特徴次元）\n",
    "        out = out.view(-1, 8 * 8 * self.n_chans1 // 2)\n",
    "\n",
    "        # 全結合層1 → Tanh活性化\n",
    "        out = torch.tanh(self.fc1(out))\n",
    "\n",
    "        # 全結合層2（出力層: ロジット値）\n",
    "        out = self.fc2(out)\n",
    "\n",
    "        return out"
   ]
  },
  {
   "cell_type": "code",
   "execution_count": 56,
   "id": "8476a82f",
   "metadata": {},
   "outputs": [
    {
     "name": "stdout",
     "output_type": "stream",
     "text": [
      "2025-08-08 19:47:09.495359 Epoch 1, Training loss 0.5867\n",
      "2025-08-08 19:47:20.946929 Epoch 10, Training loss 0.3794\n",
      "2025-08-08 19:47:34.123541 Epoch 20, Training loss 0.3561\n",
      "2025-08-08 19:47:46.599883 Epoch 30, Training loss 0.3338\n",
      "2025-08-08 19:47:59.117069 Epoch 40, Training loss 0.3175\n",
      "2025-08-08 19:48:11.636390 Epoch 50, Training loss 0.3048\n",
      "2025-08-08 19:48:24.085739 Epoch 60, Training loss 0.2856\n",
      "2025-08-08 19:48:36.652468 Epoch 70, Training loss 0.2764\n",
      "2025-08-08 19:48:49.137482 Epoch 80, Training loss 0.2672\n",
      "2025-08-08 19:49:01.667413 Epoch 90, Training loss 0.2585\n",
      "2025-08-08 19:49:14.251597 Epoch 100, Training loss 0.2442\n",
      "Accuracy train: 0.89\n",
      "Accuracy val: 0.88\n"
     ]
    }
   ],
   "source": [
    "# --- モデルの構築 ---\n",
    "# NetDropout クラスをインスタンス化（n_chans1=32）し、\n",
    "# 学習・推論を行うデバイス（CPU/GPU/MPS）へ転送\n",
    "model = NetDropout(n_chans1=32).to(device=device)\n",
    "\n",
    "# --- 最適化関数の設定 ---\n",
    "# SGD（確率的勾配降下法）を使用し、学習率は 1e-2 に設定\n",
    "optimizer = optim.SGD(model.parameters(), lr=1e-2)\n",
    "\n",
    "# --- 損失関数の設定 ---\n",
    "# 多クラス分類用の交差エントロピー損失を使用\n",
    "loss_fn = nn.CrossEntropyLoss()\n",
    "\n",
    "# --- モデルの訓練 ---\n",
    "# 先に定義した training_loop 関数を使い、\n",
    "# モデル・最適化関数・損失関数・訓練データローダーを指定\n",
    "training_loop(\n",
    "    n_epochs=100,  # 学習エポック数\n",
    "    optimizer=optimizer,  # 最適化関数\n",
    "    model=model,  # 学習対象モデル\n",
    "    loss_fn=loss_fn,  # 損失関数\n",
    "    train_loader=train_loader,  # 訓練用データローダー\n",
    ")\n",
    "\n",
    "# --- モデルの評価 ---\n",
    "# 訓練データと検証データに対する分類精度を計測\n",
    "# all_acc_dict に \"dropout\" というキーで結果を保存\n",
    "all_acc_dict[\"dropout\"] = validate(model, train_loader, val_loader)"
   ]
  },
  {
   "cell_type": "code",
   "execution_count": 57,
   "id": "16077acc",
   "metadata": {},
   "outputs": [],
   "source": [
    "class NetBatchNorm(nn.Module):\n",
    "    def __init__(self, n_chans1=32):\n",
    "        super().__init__()\n",
    "        self.n_chans1 = n_chans1  # 最初の畳み込み層の出力チャネル数\n",
    "\n",
    "        # --- 畳み込み層1 ---\n",
    "        # 入力：RGB画像（3チャンネル）\n",
    "        # 出力：n_chans1チャンネル\n",
    "        self.conv1 = nn.Conv2d(3, n_chans1, kernel_size=3, padding=1)\n",
    "        # バッチ正規化（畳み込み層1の出力チャンネル数に合わせる）\n",
    "        self.conv1_batchnorm = nn.BatchNorm2d(num_features=n_chans1)\n",
    "\n",
    "        # --- 畳み込み層2 ---\n",
    "        # 入力：n_chans1チャンネル\n",
    "        # 出力：n_chans1 // 2 チャンネル\n",
    "        self.conv2 = nn.Conv2d(n_chans1, n_chans1 // 2, kernel_size=3, padding=1)\n",
    "        # バッチ正規化（畳み込み層2の出力チャンネル数に合わせる）\n",
    "        self.conv2_batchnorm = nn.BatchNorm2d(num_features=n_chans1 // 2)\n",
    "\n",
    "        # --- 全結合層1 ---\n",
    "        # 入力：プーリング後の特徴マップを一次元に展開したベクトル\n",
    "        # 出力：32ユニット\n",
    "        self.fc1 = nn.Linear(8 * 8 * n_chans1 // 2, 32)\n",
    "\n",
    "        # --- 全結合層2（出力層） ---\n",
    "        # 入力：32ユニット\n",
    "        # 出力：クラス数（2クラス分類）\n",
    "        self.fc2 = nn.Linear(32, 2)\n",
    "\n",
    "    def forward(self, x):\n",
    "        # 畳み込み1 → バッチ正規化 → Tanh活性化 → 2x2 MaxPooling\n",
    "        out = self.conv1_batchnorm(self.conv1(x))\n",
    "        out = F.max_pool2d(torch.tanh(out), 2)\n",
    "\n",
    "        # 畳み込み2 → バッチ正規化 → Tanh活性化 → 2x2 MaxPooling\n",
    "        out = self.conv2_batchnorm(self.conv2(out))\n",
    "        out = F.max_pool2d(torch.tanh(out), 2)\n",
    "\n",
    "        # 特徴マップを平坦化（バッチサイズ × 特徴量数）\n",
    "        out = out.view(-1, 8 * 8 * self.n_chans1 // 2)\n",
    "\n",
    "        # 全結合1 → Tanh活性化\n",
    "        out = torch.tanh(self.fc1(out))\n",
    "\n",
    "        # 全結合2（出力）\n",
    "        out = self.fc2(out)\n",
    "        return out"
   ]
  },
  {
   "cell_type": "code",
   "execution_count": 58,
   "id": "3f69fdbc",
   "metadata": {},
   "outputs": [
    {
     "name": "stdout",
     "output_type": "stream",
     "text": [
      "2025-08-08 20:02:53.946933 Epoch 1, Training loss 0.4613\n",
      "2025-08-08 20:03:04.931445 Epoch 10, Training loss 0.2725\n",
      "2025-08-08 20:03:19.021095 Epoch 20, Training loss 0.2119\n",
      "2025-08-08 20:03:32.556373 Epoch 30, Training loss 0.1630\n",
      "2025-08-08 20:03:46.526097 Epoch 40, Training loss 0.1218\n",
      "2025-08-08 20:04:01.262622 Epoch 50, Training loss 0.0839\n",
      "2025-08-08 20:04:14.996507 Epoch 60, Training loss 0.0560\n",
      "2025-08-08 20:04:28.613442 Epoch 70, Training loss 0.0362\n",
      "2025-08-08 20:04:42.010341 Epoch 80, Training loss 0.0216\n",
      "2025-08-08 20:04:56.486703 Epoch 90, Training loss 0.0132\n",
      "2025-08-08 20:05:11.303611 Epoch 100, Training loss 0.0085\n",
      "Accuracy train: 0.98\n",
      "Accuracy val: 0.87\n"
     ]
    }
   ],
   "source": [
    "# === BatchNorm版モデルの学習準備 ===\n",
    "model = NetBatchNorm(n_chans1=32).to(\n",
    "    device=device\n",
    ")  # モデルを生成し、GPU/MPS/CPUへ配置するである\n",
    "optimizer = optim.SGD(\n",
    "    model.parameters(), lr=1e-2\n",
    ")  # 確率的勾配降下法（SGD）を用いる（学習率 0.01）である\n",
    "loss_fn = nn.CrossEntropyLoss()  # 交差エントロピー損失（logit入力を想定）である\n",
    "\n",
    "# === 学習（100エポック） ===\n",
    "# training_loop 内では：順伝播→損失計算→勾配初期化→逆伝播→パラメータ更新を行うである\n",
    "# 画像・ラベルは device へ転送され、平均損失をエポックごとにログ出力する実装である\n",
    "training_loop(\n",
    "    n_epochs=100,\n",
    "    optimizer=optimizer,\n",
    "    model=model,\n",
    "    loss_fn=loss_fn,\n",
    "    train_loader=train_loader,\n",
    ")\n",
    "\n",
    "# === 評価 ===\n",
    "# BatchNorm層は学習/評価で挙動が変わるため、本来は eval モードへ切り替えるのが定石である\n",
    "# （Dropout/BNが含まれるモデルでは特に重要）である\n",
    "model.eval()  # 推論モード（running mean/var を使用）である\n",
    "all_acc_dict[\"batch_norm\"] = validate(\n",
    "    model, train_loader, val_loader\n",
    ")  # 訓練/検証の精度を測定し記録するである"
   ]
  },
  {
   "cell_type": "code",
   "execution_count": null,
   "id": "84bc6f71",
   "metadata": {},
   "outputs": [],
   "source": []
  }
 ],
 "metadata": {
  "kernelspec": {
   "display_name": "Python (pytorch-env)",
   "language": "python",
   "name": "pytorch-env"
  },
  "language_info": {
   "codemirror_mode": {
    "name": "ipython",
    "version": 3
   },
   "file_extension": ".py",
   "mimetype": "text/x-python",
   "name": "python",
   "nbconvert_exporter": "python",
   "pygments_lexer": "ipython3",
   "version": "3.13.5"
  }
 },
 "nbformat": 4,
 "nbformat_minor": 5
}
